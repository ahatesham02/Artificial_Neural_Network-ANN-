{
  "nbformat": 4,
  "nbformat_minor": 0,
  "metadata": {
    "colab": {
      "name": "Bank_turnover_dataset_with_ANN.ipynb",
      "provenance": [],
      "authorship_tag": "ABX9TyNkw0mpl1vuiGGaehSSy29A",
      "include_colab_link": true
    },
    "kernelspec": {
      "name": "python3",
      "display_name": "Python 3"
    }
  },
  "cells": [
    {
      "cell_type": "markdown",
      "metadata": {
        "id": "view-in-github",
        "colab_type": "text"
      },
      "source": [
        "<a href=\"https://colab.research.google.com/github/ahatesham02/Artificial_Neural_Network-ANN-/blob/main/Bank_turnover_dataset_with_ANN.ipynb\" target=\"_parent\"><img src=\"https://colab.research.google.com/assets/colab-badge.svg\" alt=\"Open In Colab\"/></a>"
      ]
    },
    {
      "cell_type": "code",
      "metadata": {
        "id": "3M5rgFPeL9mn"
      },
      "source": [
        "import pandas as pd\r\n",
        "import numpy as np\r\n",
        "import matplotlib.pyplot as plt\r\n",
        "import seaborn as sns\r\n",
        "sns.set(style=\"whitegrid\", color_codes=True)\r\n",
        "import tensorflow as tf\r\n",
        "from tensorflow import keras\r\n",
        "%matplotlib inline"
      ],
      "execution_count": 8,
      "outputs": []
    },
    {
      "cell_type": "code",
      "metadata": {
        "colab": {
          "base_uri": "https://localhost:8080/",
          "height": 195
        },
        "id": "wNnSqgn2MI4M",
        "outputId": "a0710d5c-e6a5-4421-9b7c-01f0a3db1276"
      },
      "source": [
        "df= pd.read_csv('Churn_Modelling.csv')\r\n",
        "df.sample(5)"
      ],
      "execution_count": 2,
      "outputs": [
        {
          "output_type": "execute_result",
          "data": {
            "text/html": [
              "<div>\n",
              "<style scoped>\n",
              "    .dataframe tbody tr th:only-of-type {\n",
              "        vertical-align: middle;\n",
              "    }\n",
              "\n",
              "    .dataframe tbody tr th {\n",
              "        vertical-align: top;\n",
              "    }\n",
              "\n",
              "    .dataframe thead th {\n",
              "        text-align: right;\n",
              "    }\n",
              "</style>\n",
              "<table border=\"1\" class=\"dataframe\">\n",
              "  <thead>\n",
              "    <tr style=\"text-align: right;\">\n",
              "      <th></th>\n",
              "      <th>RowNumber</th>\n",
              "      <th>CustomerId</th>\n",
              "      <th>Surname</th>\n",
              "      <th>CreditScore</th>\n",
              "      <th>Geography</th>\n",
              "      <th>Gender</th>\n",
              "      <th>Age</th>\n",
              "      <th>Tenure</th>\n",
              "      <th>Balance</th>\n",
              "      <th>NumOfProducts</th>\n",
              "      <th>HasCrCard</th>\n",
              "      <th>IsActiveMember</th>\n",
              "      <th>EstimatedSalary</th>\n",
              "      <th>Exited</th>\n",
              "    </tr>\n",
              "  </thead>\n",
              "  <tbody>\n",
              "    <tr>\n",
              "      <th>2259</th>\n",
              "      <td>2260</td>\n",
              "      <td>15762216</td>\n",
              "      <td>Barrera</td>\n",
              "      <td>686</td>\n",
              "      <td>France</td>\n",
              "      <td>Female</td>\n",
              "      <td>41</td>\n",
              "      <td>4</td>\n",
              "      <td>129553.76</td>\n",
              "      <td>2</td>\n",
              "      <td>1</td>\n",
              "      <td>0</td>\n",
              "      <td>187599.80</td>\n",
              "      <td>0</td>\n",
              "    </tr>\n",
              "    <tr>\n",
              "      <th>3573</th>\n",
              "      <td>3574</td>\n",
              "      <td>15791988</td>\n",
              "      <td>Chinomso</td>\n",
              "      <td>670</td>\n",
              "      <td>France</td>\n",
              "      <td>Male</td>\n",
              "      <td>68</td>\n",
              "      <td>4</td>\n",
              "      <td>0.00</td>\n",
              "      <td>2</td>\n",
              "      <td>1</td>\n",
              "      <td>1</td>\n",
              "      <td>11426.70</td>\n",
              "      <td>0</td>\n",
              "    </tr>\n",
              "    <tr>\n",
              "      <th>8140</th>\n",
              "      <td>8141</td>\n",
              "      <td>15572022</td>\n",
              "      <td>Han</td>\n",
              "      <td>605</td>\n",
              "      <td>France</td>\n",
              "      <td>Female</td>\n",
              "      <td>36</td>\n",
              "      <td>6</td>\n",
              "      <td>0.00</td>\n",
              "      <td>1</td>\n",
              "      <td>0</td>\n",
              "      <td>1</td>\n",
              "      <td>690.84</td>\n",
              "      <td>0</td>\n",
              "    </tr>\n",
              "    <tr>\n",
              "      <th>9116</th>\n",
              "      <td>9117</td>\n",
              "      <td>15672082</td>\n",
              "      <td>Schatz</td>\n",
              "      <td>562</td>\n",
              "      <td>France</td>\n",
              "      <td>Male</td>\n",
              "      <td>62</td>\n",
              "      <td>3</td>\n",
              "      <td>0.00</td>\n",
              "      <td>2</td>\n",
              "      <td>1</td>\n",
              "      <td>0</td>\n",
              "      <td>105986.01</td>\n",
              "      <td>0</td>\n",
              "    </tr>\n",
              "    <tr>\n",
              "      <th>3450</th>\n",
              "      <td>3451</td>\n",
              "      <td>15661936</td>\n",
              "      <td>Chikelu</td>\n",
              "      <td>513</td>\n",
              "      <td>France</td>\n",
              "      <td>Male</td>\n",
              "      <td>40</td>\n",
              "      <td>3</td>\n",
              "      <td>141004.46</td>\n",
              "      <td>1</td>\n",
              "      <td>1</td>\n",
              "      <td>0</td>\n",
              "      <td>105028.46</td>\n",
              "      <td>0</td>\n",
              "    </tr>\n",
              "  </tbody>\n",
              "</table>\n",
              "</div>"
            ],
            "text/plain": [
              "      RowNumber  CustomerId   Surname  ...  IsActiveMember EstimatedSalary Exited\n",
              "2259       2260    15762216   Barrera  ...               0       187599.80      0\n",
              "3573       3574    15791988  Chinomso  ...               1        11426.70      0\n",
              "8140       8141    15572022       Han  ...               1          690.84      0\n",
              "9116       9117    15672082    Schatz  ...               0       105986.01      0\n",
              "3450       3451    15661936   Chikelu  ...               0       105028.46      0\n",
              "\n",
              "[5 rows x 14 columns]"
            ]
          },
          "metadata": {
            "tags": []
          },
          "execution_count": 2
        }
      ]
    },
    {
      "cell_type": "code",
      "metadata": {
        "colab": {
          "base_uri": "https://localhost:8080/"
        },
        "id": "O7mKNXuaM2O7",
        "outputId": "3e98b85c-68ec-44ae-9f16-e8cbae0b7dc8"
      },
      "source": [
        "df.shape"
      ],
      "execution_count": 3,
      "outputs": [
        {
          "output_type": "execute_result",
          "data": {
            "text/plain": [
              "(10000, 14)"
            ]
          },
          "metadata": {
            "tags": []
          },
          "execution_count": 3
        }
      ]
    },
    {
      "cell_type": "code",
      "metadata": {
        "id": "fgYRzsprM5b1"
      },
      "source": [
        "df.drop(['RowNumber','CustomerId','Surname'], axis='columns', inplace=True)"
      ],
      "execution_count": 4,
      "outputs": []
    },
    {
      "cell_type": "code",
      "metadata": {
        "colab": {
          "base_uri": "https://localhost:8080/",
          "height": 195
        },
        "id": "Rwu0CtCxNO7P",
        "outputId": "bb5fb015-88b5-4efe-b505-bb1873a36c49"
      },
      "source": [
        "df.head()"
      ],
      "execution_count": 5,
      "outputs": [
        {
          "output_type": "execute_result",
          "data": {
            "text/html": [
              "<div>\n",
              "<style scoped>\n",
              "    .dataframe tbody tr th:only-of-type {\n",
              "        vertical-align: middle;\n",
              "    }\n",
              "\n",
              "    .dataframe tbody tr th {\n",
              "        vertical-align: top;\n",
              "    }\n",
              "\n",
              "    .dataframe thead th {\n",
              "        text-align: right;\n",
              "    }\n",
              "</style>\n",
              "<table border=\"1\" class=\"dataframe\">\n",
              "  <thead>\n",
              "    <tr style=\"text-align: right;\">\n",
              "      <th></th>\n",
              "      <th>CreditScore</th>\n",
              "      <th>Geography</th>\n",
              "      <th>Gender</th>\n",
              "      <th>Age</th>\n",
              "      <th>Tenure</th>\n",
              "      <th>Balance</th>\n",
              "      <th>NumOfProducts</th>\n",
              "      <th>HasCrCard</th>\n",
              "      <th>IsActiveMember</th>\n",
              "      <th>EstimatedSalary</th>\n",
              "      <th>Exited</th>\n",
              "    </tr>\n",
              "  </thead>\n",
              "  <tbody>\n",
              "    <tr>\n",
              "      <th>0</th>\n",
              "      <td>619</td>\n",
              "      <td>France</td>\n",
              "      <td>Female</td>\n",
              "      <td>42</td>\n",
              "      <td>2</td>\n",
              "      <td>0.00</td>\n",
              "      <td>1</td>\n",
              "      <td>1</td>\n",
              "      <td>1</td>\n",
              "      <td>101348.88</td>\n",
              "      <td>1</td>\n",
              "    </tr>\n",
              "    <tr>\n",
              "      <th>1</th>\n",
              "      <td>608</td>\n",
              "      <td>Spain</td>\n",
              "      <td>Female</td>\n",
              "      <td>41</td>\n",
              "      <td>1</td>\n",
              "      <td>83807.86</td>\n",
              "      <td>1</td>\n",
              "      <td>0</td>\n",
              "      <td>1</td>\n",
              "      <td>112542.58</td>\n",
              "      <td>0</td>\n",
              "    </tr>\n",
              "    <tr>\n",
              "      <th>2</th>\n",
              "      <td>502</td>\n",
              "      <td>France</td>\n",
              "      <td>Female</td>\n",
              "      <td>42</td>\n",
              "      <td>8</td>\n",
              "      <td>159660.80</td>\n",
              "      <td>3</td>\n",
              "      <td>1</td>\n",
              "      <td>0</td>\n",
              "      <td>113931.57</td>\n",
              "      <td>1</td>\n",
              "    </tr>\n",
              "    <tr>\n",
              "      <th>3</th>\n",
              "      <td>699</td>\n",
              "      <td>France</td>\n",
              "      <td>Female</td>\n",
              "      <td>39</td>\n",
              "      <td>1</td>\n",
              "      <td>0.00</td>\n",
              "      <td>2</td>\n",
              "      <td>0</td>\n",
              "      <td>0</td>\n",
              "      <td>93826.63</td>\n",
              "      <td>0</td>\n",
              "    </tr>\n",
              "    <tr>\n",
              "      <th>4</th>\n",
              "      <td>850</td>\n",
              "      <td>Spain</td>\n",
              "      <td>Female</td>\n",
              "      <td>43</td>\n",
              "      <td>2</td>\n",
              "      <td>125510.82</td>\n",
              "      <td>1</td>\n",
              "      <td>1</td>\n",
              "      <td>1</td>\n",
              "      <td>79084.10</td>\n",
              "      <td>0</td>\n",
              "    </tr>\n",
              "  </tbody>\n",
              "</table>\n",
              "</div>"
            ],
            "text/plain": [
              "   CreditScore Geography  Gender  ...  IsActiveMember  EstimatedSalary  Exited\n",
              "0          619    France  Female  ...               1        101348.88       1\n",
              "1          608     Spain  Female  ...               1        112542.58       0\n",
              "2          502    France  Female  ...               0        113931.57       1\n",
              "3          699    France  Female  ...               0         93826.63       0\n",
              "4          850     Spain  Female  ...               1         79084.10       0\n",
              "\n",
              "[5 rows x 11 columns]"
            ]
          },
          "metadata": {
            "tags": []
          },
          "execution_count": 5
        }
      ]
    },
    {
      "cell_type": "code",
      "metadata": {
        "colab": {
          "base_uri": "https://localhost:8080/"
        },
        "id": "bVmJ9losNRHC",
        "outputId": "c9df3e52-8ab3-44af-ab0b-5c157fec9f37"
      },
      "source": [
        "df.shape"
      ],
      "execution_count": 6,
      "outputs": [
        {
          "output_type": "execute_result",
          "data": {
            "text/plain": [
              "(10000, 11)"
            ]
          },
          "metadata": {
            "tags": []
          },
          "execution_count": 6
        }
      ]
    },
    {
      "cell_type": "code",
      "metadata": {
        "colab": {
          "base_uri": "https://localhost:8080/"
        },
        "id": "_BX6-tsTNlGm",
        "outputId": "8523fe18-4610-4a6e-b720-2ef2c20b183b"
      },
      "source": [
        "df.info()"
      ],
      "execution_count": 7,
      "outputs": [
        {
          "output_type": "stream",
          "text": [
            "<class 'pandas.core.frame.DataFrame'>\n",
            "RangeIndex: 10000 entries, 0 to 9999\n",
            "Data columns (total 11 columns):\n",
            " #   Column           Non-Null Count  Dtype  \n",
            "---  ------           --------------  -----  \n",
            " 0   CreditScore      10000 non-null  int64  \n",
            " 1   Geography        10000 non-null  object \n",
            " 2   Gender           10000 non-null  object \n",
            " 3   Age              10000 non-null  int64  \n",
            " 4   Tenure           10000 non-null  int64  \n",
            " 5   Balance          10000 non-null  float64\n",
            " 6   NumOfProducts    10000 non-null  int64  \n",
            " 7   HasCrCard        10000 non-null  int64  \n",
            " 8   IsActiveMember   10000 non-null  int64  \n",
            " 9   EstimatedSalary  10000 non-null  float64\n",
            " 10  Exited           10000 non-null  int64  \n",
            "dtypes: float64(2), int64(7), object(2)\n",
            "memory usage: 859.5+ KB\n"
          ],
          "name": "stdout"
        }
      ]
    },
    {
      "cell_type": "code",
      "metadata": {
        "colab": {
          "base_uri": "https://localhost:8080/"
        },
        "id": "ckpoeoACNok8",
        "outputId": "d849af0d-756f-41de-961b-556caed7aed5"
      },
      "source": [
        "df.isnull().sum()"
      ],
      "execution_count": 10,
      "outputs": [
        {
          "output_type": "execute_result",
          "data": {
            "text/plain": [
              "CreditScore        0\n",
              "Geography          0\n",
              "Gender             0\n",
              "Age                0\n",
              "Tenure             0\n",
              "Balance            0\n",
              "NumOfProducts      0\n",
              "HasCrCard          0\n",
              "IsActiveMember     0\n",
              "EstimatedSalary    0\n",
              "Exited             0\n",
              "dtype: int64"
            ]
          },
          "metadata": {
            "tags": []
          },
          "execution_count": 10
        }
      ]
    },
    {
      "cell_type": "code",
      "metadata": {
        "colab": {
          "base_uri": "https://localhost:8080/",
          "height": 371
        },
        "id": "mGPYqlG_Om8R",
        "outputId": "a58f66d1-c38b-46d2-88c8-482c14dd664b"
      },
      "source": [
        "sns.distplot(df['Age'],bins=20 )\r\n",
        "plt.title('Age distribution in Bank dataset')\r\n",
        "plt.xlabel('Age')\r\n",
        "plt.ylabel('Density')"
      ],
      "execution_count": 36,
      "outputs": [
        {
          "output_type": "stream",
          "text": [
            "/usr/local/lib/python3.6/dist-packages/seaborn/distributions.py:2551: FutureWarning: `distplot` is a deprecated function and will be removed in a future version. Please adapt your code to use either `displot` (a figure-level function with similar flexibility) or `histplot` (an axes-level function for histograms).\n",
            "  warnings.warn(msg, FutureWarning)\n"
          ],
          "name": "stderr"
        },
        {
          "output_type": "execute_result",
          "data": {
            "text/plain": [
              "Text(0, 0.5, 'Density')"
            ]
          },
          "metadata": {
            "tags": []
          },
          "execution_count": 36
        },
        {
          "output_type": "display_data",
          "data": {
            "image/png": "[encoded data removed]",
            "text/plain": [
              "<Figure size 432x288 with 1 Axes>"
            ]
          },
          "metadata": {
            "tags": [],
            "needs_background": "light"
          }
        }
      ]
    },
    {
      "cell_type": "code",
      "metadata": {
        "colab": {
          "base_uri": "https://localhost:8080/"
        },
        "id": "-U8fvPbkO3dE",
        "outputId": "eb15b07a-26a4-4e72-ba22-cdc10b9747f2"
      },
      "source": [
        "for i in df:\r\n",
        "  if df[i].dtype == 'object':\r\n",
        "\r\n",
        "    print(i +':',df[i].unique())"
      ],
      "execution_count": 22,
      "outputs": [
        {
          "output_type": "stream",
          "text": [
            "Geography: ['France' 'Spain' 'Germany']\n",
            "Gender: ['Female' 'Male']\n"
          ],
          "name": "stdout"
        }
      ]
    },
    {
      "cell_type": "code",
      "metadata": {
        "colab": {
          "base_uri": "https://localhost:8080/",
          "height": 355
        },
        "id": "yrWljMgxQM5s",
        "outputId": "56b618ac-bad6-43b0-fe90-7962fd06f1ff"
      },
      "source": [
        "sns.countplot(df['Geography'], data=df, palette='mako')"
      ],
      "execution_count": 29,
      "outputs": [
        {
          "output_type": "stream",
          "text": [
            "/usr/local/lib/python3.6/dist-packages/seaborn/_decorators.py:43: FutureWarning: Pass the following variable as a keyword arg: x. From version 0.12, the only valid positional argument will be `data`, and passing other arguments without an explicit keyword will result in an error or misinterpretation.\n",
            "  FutureWarning\n"
          ],
          "name": "stderr"
        },
        {
          "output_type": "execute_result",
          "data": {
            "text/plain": [
              "<matplotlib.axes._subplots.AxesSubplot at 0x7fc88d6f57f0>"
            ]
          },
          "metadata": {
            "tags": []
          },
          "execution_count": 29
        },
        {
          "output_type": "display_data",
          "data": {
            "image/png": "[encoded data removed]",
            "text/plain": [
              "<Figure size 432x288 with 1 Axes>"
            ]
          },
          "metadata": {
            "tags": [],
            "needs_background": "light"
          }
        }
      ]
    },
    {
      "cell_type": "code",
      "metadata": {
        "colab": {
          "base_uri": "https://localhost:8080/",
          "height": 355
        },
        "id": "kewWGz4WRUKl",
        "outputId": "9630c297-c849-4787-e4ba-e422a1d181bc"
      },
      "source": [
        "sns.countplot(df['Geography'],hue='Exited', data=df, palette='mako', saturation=1.0)"
      ],
      "execution_count": 35,
      "outputs": [
        {
          "output_type": "stream",
          "text": [
            "/usr/local/lib/python3.6/dist-packages/seaborn/_decorators.py:43: FutureWarning: Pass the following variable as a keyword arg: x. From version 0.12, the only valid positional argument will be `data`, and passing other arguments without an explicit keyword will result in an error or misinterpretation.\n",
            "  FutureWarning\n"
          ],
          "name": "stderr"
        },
        {
          "output_type": "execute_result",
          "data": {
            "text/plain": [
              "<matplotlib.axes._subplots.AxesSubplot at 0x7fc88d4e3898>"
            ]
          },
          "metadata": {
            "tags": []
          },
          "execution_count": 35
        },
        {
          "output_type": "display_data",
          "data": {
            "image/png": "[encoded data removed]",
            "text/plain": [
              "<Figure size 432x288 with 1 Axes>"
            ]
          },
          "metadata": {
            "tags": [],
            "needs_background": "light"
          }
        }
      ]
    },
    {
      "cell_type": "code",
      "metadata": {
        "colab": {
          "base_uri": "https://localhost:8080/",
          "height": 355
        },
        "id": "dnX6K7qwSXuC",
        "outputId": "481f0cf2-e6bf-46dd-9638-f01b0887464a"
      },
      "source": [
        "sns.countplot(df['NumOfProducts'], data=df, hue='Exited', palette='mako', saturation=1.00)"
      ],
      "execution_count": 37,
      "outputs": [
        {
          "output_type": "stream",
          "text": [
            "/usr/local/lib/python3.6/dist-packages/seaborn/_decorators.py:43: FutureWarning: Pass the following variable as a keyword arg: x. From version 0.12, the only valid positional argument will be `data`, and passing other arguments without an explicit keyword will result in an error or misinterpretation.\n",
            "  FutureWarning\n"
          ],
          "name": "stderr"
        },
        {
          "output_type": "execute_result",
          "data": {
            "text/plain": [
              "<matplotlib.axes._subplots.AxesSubplot at 0x7fc88d37deb8>"
            ]
          },
          "metadata": {
            "tags": []
          },
          "execution_count": 37
        },
        {
          "output_type": "display_data",
          "data": {
            "image/png": "[encoded data removed]",
            "text/plain": [
              "<Figure size 432x288 with 1 Axes>"
            ]
          },
          "metadata": {
            "tags": [],
            "needs_background": "light"
          }
        }
      ]
    },
    {
      "cell_type": "code",
      "metadata": {
        "colab": {
          "base_uri": "https://localhost:8080/",
          "height": 355
        },
        "id": "-0JKplf9TZRQ",
        "outputId": "d10eb1cf-4035-4176-b205-9d31af6b8224"
      },
      "source": [
        "sns.countplot(df['IsActiveMember'], data=df, hue='Exited', palette='mako', saturation=1.00)"
      ],
      "execution_count": 38,
      "outputs": [
        {
          "output_type": "stream",
          "text": [
            "/usr/local/lib/python3.6/dist-packages/seaborn/_decorators.py:43: FutureWarning: Pass the following variable as a keyword arg: x. From version 0.12, the only valid positional argument will be `data`, and passing other arguments without an explicit keyword will result in an error or misinterpretation.\n",
            "  FutureWarning\n"
          ],
          "name": "stderr"
        },
        {
          "output_type": "execute_result",
          "data": {
            "text/plain": [
              "<matplotlib.axes._subplots.AxesSubplot at 0x7fc88d31de10>"
            ]
          },
          "metadata": {
            "tags": []
          },
          "execution_count": 38
        },
        {
          "output_type": "display_data",
          "data": {
            "image/png": "[encoded data removed]",
            "text/plain": [
              "<Figure size 432x288 with 1 Axes>"
            ]
          },
          "metadata": {
            "tags": [],
            "needs_background": "light"
          }
        }
      ]
    },
    {
      "cell_type": "code",
      "metadata": {
        "id": "YSDXtkuLT08R"
      },
      "source": [
        "df['Gender'].replace({'Male':1,'Female':0}, inplace= True)"
      ],
      "execution_count": 40,
      "outputs": []
    },
    {
      "cell_type": "code",
      "metadata": {
        "colab": {
          "base_uri": "https://localhost:8080/",
          "height": 195
        },
        "id": "V9AVuMy-UQCN",
        "outputId": "39067af1-e8ea-45d7-f50f-d958127c3263"
      },
      "source": [
        "df.head()"
      ],
      "execution_count": 41,
      "outputs": [
        {
          "output_type": "execute_result",
          "data": {
            "text/html": [
              "<div>\n",
              "<style scoped>\n",
              "    .dataframe tbody tr th:only-of-type {\n",
              "        vertical-align: middle;\n",
              "    }\n",
              "\n",
              "    .dataframe tbody tr th {\n",
              "        vertical-align: top;\n",
              "    }\n",
              "\n",
              "    .dataframe thead th {\n",
              "        text-align: right;\n",
              "    }\n",
              "</style>\n",
              "<table border=\"1\" class=\"dataframe\">\n",
              "  <thead>\n",
              "    <tr style=\"text-align: right;\">\n",
              "      <th></th>\n",
              "      <th>CreditScore</th>\n",
              "      <th>Geography</th>\n",
              "      <th>Gender</th>\n",
              "      <th>Age</th>\n",
              "      <th>Tenure</th>\n",
              "      <th>Balance</th>\n",
              "      <th>NumOfProducts</th>\n",
              "      <th>HasCrCard</th>\n",
              "      <th>IsActiveMember</th>\n",
              "      <th>EstimatedSalary</th>\n",
              "      <th>Exited</th>\n",
              "    </tr>\n",
              "  </thead>\n",
              "  <tbody>\n",
              "    <tr>\n",
              "      <th>0</th>\n",
              "      <td>619</td>\n",
              "      <td>France</td>\n",
              "      <td>0</td>\n",
              "      <td>42</td>\n",
              "      <td>2</td>\n",
              "      <td>0.00</td>\n",
              "      <td>1</td>\n",
              "      <td>1</td>\n",
              "      <td>1</td>\n",
              "      <td>101348.88</td>\n",
              "      <td>1</td>\n",
              "    </tr>\n",
              "    <tr>\n",
              "      <th>1</th>\n",
              "      <td>608</td>\n",
              "      <td>Spain</td>\n",
              "      <td>0</td>\n",
              "      <td>41</td>\n",
              "      <td>1</td>\n",
              "      <td>83807.86</td>\n",
              "      <td>1</td>\n",
              "      <td>0</td>\n",
              "      <td>1</td>\n",
              "      <td>112542.58</td>\n",
              "      <td>0</td>\n",
              "    </tr>\n",
              "    <tr>\n",
              "      <th>2</th>\n",
              "      <td>502</td>\n",
              "      <td>France</td>\n",
              "      <td>0</td>\n",
              "      <td>42</td>\n",
              "      <td>8</td>\n",
              "      <td>159660.80</td>\n",
              "      <td>3</td>\n",
              "      <td>1</td>\n",
              "      <td>0</td>\n",
              "      <td>113931.57</td>\n",
              "      <td>1</td>\n",
              "    </tr>\n",
              "    <tr>\n",
              "      <th>3</th>\n",
              "      <td>699</td>\n",
              "      <td>France</td>\n",
              "      <td>0</td>\n",
              "      <td>39</td>\n",
              "      <td>1</td>\n",
              "      <td>0.00</td>\n",
              "      <td>2</td>\n",
              "      <td>0</td>\n",
              "      <td>0</td>\n",
              "      <td>93826.63</td>\n",
              "      <td>0</td>\n",
              "    </tr>\n",
              "    <tr>\n",
              "      <th>4</th>\n",
              "      <td>850</td>\n",
              "      <td>Spain</td>\n",
              "      <td>0</td>\n",
              "      <td>43</td>\n",
              "      <td>2</td>\n",
              "      <td>125510.82</td>\n",
              "      <td>1</td>\n",
              "      <td>1</td>\n",
              "      <td>1</td>\n",
              "      <td>79084.10</td>\n",
              "      <td>0</td>\n",
              "    </tr>\n",
              "  </tbody>\n",
              "</table>\n",
              "</div>"
            ],
            "text/plain": [
              "   CreditScore Geography  Gender  ...  IsActiveMember  EstimatedSalary  Exited\n",
              "0          619    France       0  ...               1        101348.88       1\n",
              "1          608     Spain       0  ...               1        112542.58       0\n",
              "2          502    France       0  ...               0        113931.57       1\n",
              "3          699    France       0  ...               0         93826.63       0\n",
              "4          850     Spain       0  ...               1         79084.10       0\n",
              "\n",
              "[5 rows x 11 columns]"
            ]
          },
          "metadata": {
            "tags": []
          },
          "execution_count": 41
        }
      ]
    },
    {
      "cell_type": "code",
      "metadata": {
        "colab": {
          "base_uri": "https://localhost:8080/",
          "height": 195
        },
        "id": "Pq-wfzX7USLr",
        "outputId": "2e227e97-9943-41a5-ca16-599bac854554"
      },
      "source": [
        "df1= pd.get_dummies(data= df, columns=['Geography'])\r\n",
        "df1.head()"
      ],
      "execution_count": 42,
      "outputs": [
        {
          "output_type": "execute_result",
          "data": {
            "text/html": [
              "<div>\n",
              "<style scoped>\n",
              "    .dataframe tbody tr th:only-of-type {\n",
              "        vertical-align: middle;\n",
              "    }\n",
              "\n",
              "    .dataframe tbody tr th {\n",
              "        vertical-align: top;\n",
              "    }\n",
              "\n",
              "    .dataframe thead th {\n",
              "        text-align: right;\n",
              "    }\n",
              "</style>\n",
              "<table border=\"1\" class=\"dataframe\">\n",
              "  <thead>\n",
              "    <tr style=\"text-align: right;\">\n",
              "      <th></th>\n",
              "      <th>CreditScore</th>\n",
              "      <th>Gender</th>\n",
              "      <th>Age</th>\n",
              "      <th>Tenure</th>\n",
              "      <th>Balance</th>\n",
              "      <th>NumOfProducts</th>\n",
              "      <th>HasCrCard</th>\n",
              "      <th>IsActiveMember</th>\n",
              "      <th>EstimatedSalary</th>\n",
              "      <th>Exited</th>\n",
              "      <th>Geography_France</th>\n",
              "      <th>Geography_Germany</th>\n",
              "      <th>Geography_Spain</th>\n",
              "    </tr>\n",
              "  </thead>\n",
              "  <tbody>\n",
              "    <tr>\n",
              "      <th>0</th>\n",
              "      <td>619</td>\n",
              "      <td>0</td>\n",
              "      <td>42</td>\n",
              "      <td>2</td>\n",
              "      <td>0.00</td>\n",
              "      <td>1</td>\n",
              "      <td>1</td>\n",
              "      <td>1</td>\n",
              "      <td>101348.88</td>\n",
              "      <td>1</td>\n",
              "      <td>1</td>\n",
              "      <td>0</td>\n",
              "      <td>0</td>\n",
              "    </tr>\n",
              "    <tr>\n",
              "      <th>1</th>\n",
              "      <td>608</td>\n",
              "      <td>0</td>\n",
              "      <td>41</td>\n",
              "      <td>1</td>\n",
              "      <td>83807.86</td>\n",
              "      <td>1</td>\n",
              "      <td>0</td>\n",
              "      <td>1</td>\n",
              "      <td>112542.58</td>\n",
              "      <td>0</td>\n",
              "      <td>0</td>\n",
              "      <td>0</td>\n",
              "      <td>1</td>\n",
              "    </tr>\n",
              "    <tr>\n",
              "      <th>2</th>\n",
              "      <td>502</td>\n",
              "      <td>0</td>\n",
              "      <td>42</td>\n",
              "      <td>8</td>\n",
              "      <td>159660.80</td>\n",
              "      <td>3</td>\n",
              "      <td>1</td>\n",
              "      <td>0</td>\n",
              "      <td>113931.57</td>\n",
              "      <td>1</td>\n",
              "      <td>1</td>\n",
              "      <td>0</td>\n",
              "      <td>0</td>\n",
              "    </tr>\n",
              "    <tr>\n",
              "      <th>3</th>\n",
              "      <td>699</td>\n",
              "      <td>0</td>\n",
              "      <td>39</td>\n",
              "      <td>1</td>\n",
              "      <td>0.00</td>\n",
              "      <td>2</td>\n",
              "      <td>0</td>\n",
              "      <td>0</td>\n",
              "      <td>93826.63</td>\n",
              "      <td>0</td>\n",
              "      <td>1</td>\n",
              "      <td>0</td>\n",
              "      <td>0</td>\n",
              "    </tr>\n",
              "    <tr>\n",
              "      <th>4</th>\n",
              "      <td>850</td>\n",
              "      <td>0</td>\n",
              "      <td>43</td>\n",
              "      <td>2</td>\n",
              "      <td>125510.82</td>\n",
              "      <td>1</td>\n",
              "      <td>1</td>\n",
              "      <td>1</td>\n",
              "      <td>79084.10</td>\n",
              "      <td>0</td>\n",
              "      <td>0</td>\n",
              "      <td>0</td>\n",
              "      <td>1</td>\n",
              "    </tr>\n",
              "  </tbody>\n",
              "</table>\n",
              "</div>"
            ],
            "text/plain": [
              "   CreditScore  Gender  ...  Geography_Germany  Geography_Spain\n",
              "0          619       0  ...                  0                0\n",
              "1          608       0  ...                  0                1\n",
              "2          502       0  ...                  0                0\n",
              "3          699       0  ...                  0                0\n",
              "4          850       0  ...                  0                1\n",
              "\n",
              "[5 rows x 13 columns]"
            ]
          },
          "metadata": {
            "tags": []
          },
          "execution_count": 42
        }
      ]
    },
    {
      "cell_type": "code",
      "metadata": {
        "colab": {
          "base_uri": "https://localhost:8080/",
          "height": 195
        },
        "id": "OvXNj1DwU4pE",
        "outputId": "3cff6587-ba0c-48bd-a0b5-570f581d2300"
      },
      "source": [
        "df1.drop(['Geography_Spain'], axis='columns', inplace=True)\r\n",
        "df1.head()"
      ],
      "execution_count": 43,
      "outputs": [
        {
          "output_type": "execute_result",
          "data": {
            "text/html": [
              "<div>\n",
              "<style scoped>\n",
              "    .dataframe tbody tr th:only-of-type {\n",
              "        vertical-align: middle;\n",
              "    }\n",
              "\n",
              "    .dataframe tbody tr th {\n",
              "        vertical-align: top;\n",
              "    }\n",
              "\n",
              "    .dataframe thead th {\n",
              "        text-align: right;\n",
              "    }\n",
              "</style>\n",
              "<table border=\"1\" class=\"dataframe\">\n",
              "  <thead>\n",
              "    <tr style=\"text-align: right;\">\n",
              "      <th></th>\n",
              "      <th>CreditScore</th>\n",
              "      <th>Gender</th>\n",
              "      <th>Age</th>\n",
              "      <th>Tenure</th>\n",
              "      <th>Balance</th>\n",
              "      <th>NumOfProducts</th>\n",
              "      <th>HasCrCard</th>\n",
              "      <th>IsActiveMember</th>\n",
              "      <th>EstimatedSalary</th>\n",
              "      <th>Exited</th>\n",
              "      <th>Geography_France</th>\n",
              "      <th>Geography_Germany</th>\n",
              "    </tr>\n",
              "  </thead>\n",
              "  <tbody>\n",
              "    <tr>\n",
              "      <th>0</th>\n",
              "      <td>619</td>\n",
              "      <td>0</td>\n",
              "      <td>42</td>\n",
              "      <td>2</td>\n",
              "      <td>0.00</td>\n",
              "      <td>1</td>\n",
              "      <td>1</td>\n",
              "      <td>1</td>\n",
              "      <td>101348.88</td>\n",
              "      <td>1</td>\n",
              "      <td>1</td>\n",
              "      <td>0</td>\n",
              "    </tr>\n",
              "    <tr>\n",
              "      <th>1</th>\n",
              "      <td>608</td>\n",
              "      <td>0</td>\n",
              "      <td>41</td>\n",
              "      <td>1</td>\n",
              "      <td>83807.86</td>\n",
              "      <td>1</td>\n",
              "      <td>0</td>\n",
              "      <td>1</td>\n",
              "      <td>112542.58</td>\n",
              "      <td>0</td>\n",
              "      <td>0</td>\n",
              "      <td>0</td>\n",
              "    </tr>\n",
              "    <tr>\n",
              "      <th>2</th>\n",
              "      <td>502</td>\n",
              "      <td>0</td>\n",
              "      <td>42</td>\n",
              "      <td>8</td>\n",
              "      <td>159660.80</td>\n",
              "      <td>3</td>\n",
              "      <td>1</td>\n",
              "      <td>0</td>\n",
              "      <td>113931.57</td>\n",
              "      <td>1</td>\n",
              "      <td>1</td>\n",
              "      <td>0</td>\n",
              "    </tr>\n",
              "    <tr>\n",
              "      <th>3</th>\n",
              "      <td>699</td>\n",
              "      <td>0</td>\n",
              "      <td>39</td>\n",
              "      <td>1</td>\n",
              "      <td>0.00</td>\n",
              "      <td>2</td>\n",
              "      <td>0</td>\n",
              "      <td>0</td>\n",
              "      <td>93826.63</td>\n",
              "      <td>0</td>\n",
              "      <td>1</td>\n",
              "      <td>0</td>\n",
              "    </tr>\n",
              "    <tr>\n",
              "      <th>4</th>\n",
              "      <td>850</td>\n",
              "      <td>0</td>\n",
              "      <td>43</td>\n",
              "      <td>2</td>\n",
              "      <td>125510.82</td>\n",
              "      <td>1</td>\n",
              "      <td>1</td>\n",
              "      <td>1</td>\n",
              "      <td>79084.10</td>\n",
              "      <td>0</td>\n",
              "      <td>0</td>\n",
              "      <td>0</td>\n",
              "    </tr>\n",
              "  </tbody>\n",
              "</table>\n",
              "</div>"
            ],
            "text/plain": [
              "   CreditScore  Gender  Age  ...  Exited  Geography_France  Geography_Germany\n",
              "0          619       0   42  ...       1                 1                  0\n",
              "1          608       0   41  ...       0                 0                  0\n",
              "2          502       0   42  ...       1                 1                  0\n",
              "3          699       0   39  ...       0                 1                  0\n",
              "4          850       0   43  ...       0                 0                  0\n",
              "\n",
              "[5 rows x 12 columns]"
            ]
          },
          "metadata": {
            "tags": []
          },
          "execution_count": 43
        }
      ]
    },
    {
      "cell_type": "code",
      "metadata": {
        "id": "cLzhiSBtVeoN"
      },
      "source": [
        "col_to_scale= ['CreditScore','Age','Tenure','Balance','EstimatedSalary']\r\n",
        "from sklearn.preprocessing import MinMaxScaler\r\n",
        "scaler= MinMaxScaler()\r\n",
        "df1[col_to_scale]= scaler.fit_transform(df1[col_to_scale])"
      ],
      "execution_count": 44,
      "outputs": []
    },
    {
      "cell_type": "code",
      "metadata": {
        "colab": {
          "base_uri": "https://localhost:8080/",
          "height": 195
        },
        "id": "n7CNZ4dJWsl5",
        "outputId": "be8996dc-7e3e-4fbf-fea5-2a9d456266fc"
      },
      "source": [
        "df1.head()"
      ],
      "execution_count": 45,
      "outputs": [
        {
          "output_type": "execute_result",
          "data": {
            "text/html": [
              "<div>\n",
              "<style scoped>\n",
              "    .dataframe tbody tr th:only-of-type {\n",
              "        vertical-align: middle;\n",
              "    }\n",
              "\n",
              "    .dataframe tbody tr th {\n",
              "        vertical-align: top;\n",
              "    }\n",
              "\n",
              "    .dataframe thead th {\n",
              "        text-align: right;\n",
              "    }\n",
              "</style>\n",
              "<table border=\"1\" class=\"dataframe\">\n",
              "  <thead>\n",
              "    <tr style=\"text-align: right;\">\n",
              "      <th></th>\n",
              "      <th>CreditScore</th>\n",
              "      <th>Gender</th>\n",
              "      <th>Age</th>\n",
              "      <th>Tenure</th>\n",
              "      <th>Balance</th>\n",
              "      <th>NumOfProducts</th>\n",
              "      <th>HasCrCard</th>\n",
              "      <th>IsActiveMember</th>\n",
              "      <th>EstimatedSalary</th>\n",
              "      <th>Exited</th>\n",
              "      <th>Geography_France</th>\n",
              "      <th>Geography_Germany</th>\n",
              "    </tr>\n",
              "  </thead>\n",
              "  <tbody>\n",
              "    <tr>\n",
              "      <th>0</th>\n",
              "      <td>0.538</td>\n",
              "      <td>0</td>\n",
              "      <td>0.324324</td>\n",
              "      <td>0.2</td>\n",
              "      <td>0.000000</td>\n",
              "      <td>1</td>\n",
              "      <td>1</td>\n",
              "      <td>1</td>\n",
              "      <td>0.506735</td>\n",
              "      <td>1</td>\n",
              "      <td>1</td>\n",
              "      <td>0</td>\n",
              "    </tr>\n",
              "    <tr>\n",
              "      <th>1</th>\n",
              "      <td>0.516</td>\n",
              "      <td>0</td>\n",
              "      <td>0.310811</td>\n",
              "      <td>0.1</td>\n",
              "      <td>0.334031</td>\n",
              "      <td>1</td>\n",
              "      <td>0</td>\n",
              "      <td>1</td>\n",
              "      <td>0.562709</td>\n",
              "      <td>0</td>\n",
              "      <td>0</td>\n",
              "      <td>0</td>\n",
              "    </tr>\n",
              "    <tr>\n",
              "      <th>2</th>\n",
              "      <td>0.304</td>\n",
              "      <td>0</td>\n",
              "      <td>0.324324</td>\n",
              "      <td>0.8</td>\n",
              "      <td>0.636357</td>\n",
              "      <td>3</td>\n",
              "      <td>1</td>\n",
              "      <td>0</td>\n",
              "      <td>0.569654</td>\n",
              "      <td>1</td>\n",
              "      <td>1</td>\n",
              "      <td>0</td>\n",
              "    </tr>\n",
              "    <tr>\n",
              "      <th>3</th>\n",
              "      <td>0.698</td>\n",
              "      <td>0</td>\n",
              "      <td>0.283784</td>\n",
              "      <td>0.1</td>\n",
              "      <td>0.000000</td>\n",
              "      <td>2</td>\n",
              "      <td>0</td>\n",
              "      <td>0</td>\n",
              "      <td>0.469120</td>\n",
              "      <td>0</td>\n",
              "      <td>1</td>\n",
              "      <td>0</td>\n",
              "    </tr>\n",
              "    <tr>\n",
              "      <th>4</th>\n",
              "      <td>1.000</td>\n",
              "      <td>0</td>\n",
              "      <td>0.337838</td>\n",
              "      <td>0.2</td>\n",
              "      <td>0.500246</td>\n",
              "      <td>1</td>\n",
              "      <td>1</td>\n",
              "      <td>1</td>\n",
              "      <td>0.395400</td>\n",
              "      <td>0</td>\n",
              "      <td>0</td>\n",
              "      <td>0</td>\n",
              "    </tr>\n",
              "  </tbody>\n",
              "</table>\n",
              "</div>"
            ],
            "text/plain": [
              "   CreditScore  Gender       Age  ...  Exited  Geography_France  Geography_Germany\n",
              "0        0.538       0  0.324324  ...       1                 1                  0\n",
              "1        0.516       0  0.310811  ...       0                 0                  0\n",
              "2        0.304       0  0.324324  ...       1                 1                  0\n",
              "3        0.698       0  0.283784  ...       0                 1                  0\n",
              "4        1.000       0  0.337838  ...       0                 0                  0\n",
              "\n",
              "[5 rows x 12 columns]"
            ]
          },
          "metadata": {
            "tags": []
          },
          "execution_count": 45
        }
      ]
    },
    {
      "cell_type": "code",
      "metadata": {
        "colab": {
          "base_uri": "https://localhost:8080/"
        },
        "id": "WsbP3BJxWvxU",
        "outputId": "385ceb22-0da6-4bdf-ee23-3d431c7dd9c6"
      },
      "source": [
        "df1.shape"
      ],
      "execution_count": 47,
      "outputs": [
        {
          "output_type": "execute_result",
          "data": {
            "text/plain": [
              "(10000, 12)"
            ]
          },
          "metadata": {
            "tags": []
          },
          "execution_count": 47
        }
      ]
    },
    {
      "cell_type": "code",
      "metadata": {
        "id": "ESwoPc8UW01J"
      },
      "source": [
        "X= df1.drop(['Exited'], axis='columns')\r\n",
        "y= df1['Exited']"
      ],
      "execution_count": 50,
      "outputs": []
    },
    {
      "cell_type": "code",
      "metadata": {
        "colab": {
          "base_uri": "https://localhost:8080/",
          "height": 195
        },
        "id": "6UX8qk_hXjms",
        "outputId": "36433de6-9203-4bcc-d041-2c08f5579e45"
      },
      "source": [
        "X.head()"
      ],
      "execution_count": 51,
      "outputs": [
        {
          "output_type": "execute_result",
          "data": {
            "text/html": [
              "<div>\n",
              "<style scoped>\n",
              "    .dataframe tbody tr th:only-of-type {\n",
              "        vertical-align: middle;\n",
              "    }\n",
              "\n",
              "    .dataframe tbody tr th {\n",
              "        vertical-align: top;\n",
              "    }\n",
              "\n",
              "    .dataframe thead th {\n",
              "        text-align: right;\n",
              "    }\n",
              "</style>\n",
              "<table border=\"1\" class=\"dataframe\">\n",
              "  <thead>\n",
              "    <tr style=\"text-align: right;\">\n",
              "      <th></th>\n",
              "      <th>CreditScore</th>\n",
              "      <th>Gender</th>\n",
              "      <th>Age</th>\n",
              "      <th>Tenure</th>\n",
              "      <th>Balance</th>\n",
              "      <th>NumOfProducts</th>\n",
              "      <th>HasCrCard</th>\n",
              "      <th>IsActiveMember</th>\n",
              "      <th>EstimatedSalary</th>\n",
              "      <th>Geography_France</th>\n",
              "      <th>Geography_Germany</th>\n",
              "    </tr>\n",
              "  </thead>\n",
              "  <tbody>\n",
              "    <tr>\n",
              "      <th>0</th>\n",
              "      <td>0.538</td>\n",
              "      <td>0</td>\n",
              "      <td>0.324324</td>\n",
              "      <td>0.2</td>\n",
              "      <td>0.000000</td>\n",
              "      <td>1</td>\n",
              "      <td>1</td>\n",
              "      <td>1</td>\n",
              "      <td>0.506735</td>\n",
              "      <td>1</td>\n",
              "      <td>0</td>\n",
              "    </tr>\n",
              "    <tr>\n",
              "      <th>1</th>\n",
              "      <td>0.516</td>\n",
              "      <td>0</td>\n",
              "      <td>0.310811</td>\n",
              "      <td>0.1</td>\n",
              "      <td>0.334031</td>\n",
              "      <td>1</td>\n",
              "      <td>0</td>\n",
              "      <td>1</td>\n",
              "      <td>0.562709</td>\n",
              "      <td>0</td>\n",
              "      <td>0</td>\n",
              "    </tr>\n",
              "    <tr>\n",
              "      <th>2</th>\n",
              "      <td>0.304</td>\n",
              "      <td>0</td>\n",
              "      <td>0.324324</td>\n",
              "      <td>0.8</td>\n",
              "      <td>0.636357</td>\n",
              "      <td>3</td>\n",
              "      <td>1</td>\n",
              "      <td>0</td>\n",
              "      <td>0.569654</td>\n",
              "      <td>1</td>\n",
              "      <td>0</td>\n",
              "    </tr>\n",
              "    <tr>\n",
              "      <th>3</th>\n",
              "      <td>0.698</td>\n",
              "      <td>0</td>\n",
              "      <td>0.283784</td>\n",
              "      <td>0.1</td>\n",
              "      <td>0.000000</td>\n",
              "      <td>2</td>\n",
              "      <td>0</td>\n",
              "      <td>0</td>\n",
              "      <td>0.469120</td>\n",
              "      <td>1</td>\n",
              "      <td>0</td>\n",
              "    </tr>\n",
              "    <tr>\n",
              "      <th>4</th>\n",
              "      <td>1.000</td>\n",
              "      <td>0</td>\n",
              "      <td>0.337838</td>\n",
              "      <td>0.2</td>\n",
              "      <td>0.500246</td>\n",
              "      <td>1</td>\n",
              "      <td>1</td>\n",
              "      <td>1</td>\n",
              "      <td>0.395400</td>\n",
              "      <td>0</td>\n",
              "      <td>0</td>\n",
              "    </tr>\n",
              "  </tbody>\n",
              "</table>\n",
              "</div>"
            ],
            "text/plain": [
              "   CreditScore  Gender  ...  Geography_France  Geography_Germany\n",
              "0        0.538       0  ...                 1                  0\n",
              "1        0.516       0  ...                 0                  0\n",
              "2        0.304       0  ...                 1                  0\n",
              "3        0.698       0  ...                 1                  0\n",
              "4        1.000       0  ...                 0                  0\n",
              "\n",
              "[5 rows x 11 columns]"
            ]
          },
          "metadata": {
            "tags": []
          },
          "execution_count": 51
        }
      ]
    },
    {
      "cell_type": "code",
      "metadata": {
        "id": "47qX_ja0XzVq"
      },
      "source": [
        "from sklearn.model_selection import train_test_split"
      ],
      "execution_count": 52,
      "outputs": []
    },
    {
      "cell_type": "code",
      "metadata": {
        "id": "h3uuQsb6YziP"
      },
      "source": [
        "X_train, x_test,y_train, y_test = train_test_split(X, y , test_size= 0.2, random_state= 32)"
      ],
      "execution_count": 58,
      "outputs": []
    },
    {
      "cell_type": "code",
      "metadata": {
        "colab": {
          "base_uri": "https://localhost:8080/"
        },
        "id": "esLJY1GqZIHO",
        "outputId": "63fe35a1-8f7b-4090-ba89-5d5fd9b00bee"
      },
      "source": [
        "X_train.shape"
      ],
      "execution_count": 54,
      "outputs": [
        {
          "output_type": "execute_result",
          "data": {
            "text/plain": [
              "(8000, 11)"
            ]
          },
          "metadata": {
            "tags": []
          },
          "execution_count": 54
        }
      ]
    },
    {
      "cell_type": "code",
      "metadata": {
        "colab": {
          "base_uri": "https://localhost:8080/"
        },
        "id": "2rxLlM15a6Sa",
        "outputId": "3ef5db25-2a16-4e93-a3e8-0275418cfb3d"
      },
      "source": [
        "y_train.shape"
      ],
      "execution_count": 59,
      "outputs": [
        {
          "output_type": "execute_result",
          "data": {
            "text/plain": [
              "(8000,)"
            ]
          },
          "metadata": {
            "tags": []
          },
          "execution_count": 59
        }
      ]
    },
    {
      "cell_type": "code",
      "metadata": {
        "colab": {
          "base_uri": "https://localhost:8080/"
        },
        "id": "HKCQMe1CZLo2",
        "outputId": "c216c446-90be-4c7a-9b1e-bd2809906e9b"
      },
      "source": [
        "model = keras.Sequential([\r\n",
        "                        keras.layers.Dense(100, input_shape=(11,), activation='relu'),\r\n",
        "                        keras.layers.Dense(75, activation='relu'),\r\n",
        "                        keras.layers.Dense(1, activation='sigmoid')\r\n",
        "\r\n",
        "])\r\n",
        "\r\n",
        "model.compile(\r\n",
        "    optimizer='adam',\r\n",
        "    loss='binary_crossentropy',\r\n",
        "    metrics=['accuracy']\r\n",
        ")\r\n",
        "\r\n",
        "model.fit(X_train,y_train, epochs=150)"
      ],
      "execution_count": 60,
      "outputs": [
        {
          "output_type": "stream",
          "text": [
            "Epoch 1/150\n",
            "250/250 [==============================] - 1s 1ms/step - loss: 0.4909 - accuracy: 0.7986\n",
            "Epoch 2/150\n",
            "250/250 [==============================] - 0s 1ms/step - loss: 0.4107 - accuracy: 0.8270\n",
            "Epoch 3/150\n",
            "250/250 [==============================] - 0s 1ms/step - loss: 0.3939 - accuracy: 0.8333\n",
            "Epoch 4/150\n",
            "250/250 [==============================] - 0s 1ms/step - loss: 0.3852 - accuracy: 0.8343\n",
            "Epoch 5/150\n",
            "250/250 [==============================] - 0s 1ms/step - loss: 0.3642 - accuracy: 0.8477\n",
            "Epoch 6/150\n",
            "250/250 [==============================] - 0s 1ms/step - loss: 0.3550 - accuracy: 0.8561\n",
            "Epoch 7/150\n",
            "250/250 [==============================] - 0s 1ms/step - loss: 0.3585 - accuracy: 0.8513\n",
            "Epoch 8/150\n",
            "250/250 [==============================] - 0s 1ms/step - loss: 0.3431 - accuracy: 0.8562\n",
            "Epoch 9/150\n",
            "250/250 [==============================] - 0s 1ms/step - loss: 0.3323 - accuracy: 0.8624\n",
            "Epoch 10/150\n",
            "250/250 [==============================] - 0s 1ms/step - loss: 0.3330 - accuracy: 0.8597\n",
            "Epoch 11/150\n",
            "250/250 [==============================] - 0s 1ms/step - loss: 0.3358 - accuracy: 0.8574\n",
            "Epoch 12/150\n",
            "250/250 [==============================] - 0s 1ms/step - loss: 0.3311 - accuracy: 0.8655\n",
            "Epoch 13/150\n",
            "250/250 [==============================] - 0s 1ms/step - loss: 0.3327 - accuracy: 0.8691\n",
            "Epoch 14/150\n",
            "250/250 [==============================] - 0s 1ms/step - loss: 0.3424 - accuracy: 0.8597\n",
            "Epoch 15/150\n",
            "250/250 [==============================] - 0s 1ms/step - loss: 0.3341 - accuracy: 0.8660\n",
            "Epoch 16/150\n",
            "250/250 [==============================] - 0s 1ms/step - loss: 0.3261 - accuracy: 0.8648\n",
            "Epoch 17/150\n",
            "250/250 [==============================] - 0s 1ms/step - loss: 0.3223 - accuracy: 0.8660\n",
            "Epoch 18/150\n",
            "250/250 [==============================] - 0s 1ms/step - loss: 0.3263 - accuracy: 0.8652\n",
            "Epoch 19/150\n",
            "250/250 [==============================] - 0s 1ms/step - loss: 0.3255 - accuracy: 0.8680\n",
            "Epoch 20/150\n",
            "250/250 [==============================] - 0s 1ms/step - loss: 0.3319 - accuracy: 0.8635\n",
            "Epoch 21/150\n",
            "250/250 [==============================] - 0s 1ms/step - loss: 0.3381 - accuracy: 0.8614\n",
            "Epoch 22/150\n",
            "250/250 [==============================] - 0s 1ms/step - loss: 0.3314 - accuracy: 0.8613\n",
            "Epoch 23/150\n",
            "250/250 [==============================] - 0s 1ms/step - loss: 0.3331 - accuracy: 0.8660\n",
            "Epoch 24/150\n",
            "250/250 [==============================] - 0s 1ms/step - loss: 0.3288 - accuracy: 0.8606\n",
            "Epoch 25/150\n",
            "250/250 [==============================] - 0s 1ms/step - loss: 0.3096 - accuracy: 0.8759\n",
            "Epoch 26/150\n",
            "250/250 [==============================] - 0s 1ms/step - loss: 0.3152 - accuracy: 0.8676\n",
            "Epoch 27/150\n",
            "250/250 [==============================] - 0s 1ms/step - loss: 0.3135 - accuracy: 0.8720\n",
            "Epoch 28/150\n",
            "250/250 [==============================] - 0s 1ms/step - loss: 0.3313 - accuracy: 0.8620\n",
            "Epoch 29/150\n",
            "250/250 [==============================] - 0s 1ms/step - loss: 0.3239 - accuracy: 0.8627\n",
            "Epoch 30/150\n",
            "250/250 [==============================] - 0s 2ms/step - loss: 0.3224 - accuracy: 0.8670\n",
            "Epoch 31/150\n",
            "250/250 [==============================] - 0s 1ms/step - loss: 0.3040 - accuracy: 0.8732\n",
            "Epoch 32/150\n",
            "250/250 [==============================] - 0s 1ms/step - loss: 0.3079 - accuracy: 0.8745\n",
            "Epoch 33/150\n",
            "250/250 [==============================] - 0s 1ms/step - loss: 0.3141 - accuracy: 0.8691\n",
            "Epoch 34/150\n",
            "250/250 [==============================] - 0s 1ms/step - loss: 0.3023 - accuracy: 0.8742\n",
            "Epoch 35/150\n",
            "250/250 [==============================] - 0s 1ms/step - loss: 0.3088 - accuracy: 0.8728\n",
            "Epoch 36/150\n",
            "250/250 [==============================] - 0s 1ms/step - loss: 0.3081 - accuracy: 0.8740\n",
            "Epoch 37/150\n",
            "250/250 [==============================] - 0s 1ms/step - loss: 0.3235 - accuracy: 0.8665\n",
            "Epoch 38/150\n",
            "250/250 [==============================] - 0s 1ms/step - loss: 0.3078 - accuracy: 0.8740\n",
            "Epoch 39/150\n",
            "250/250 [==============================] - 0s 1ms/step - loss: 0.3072 - accuracy: 0.8738\n",
            "Epoch 40/150\n",
            "250/250 [==============================] - 0s 1ms/step - loss: 0.3117 - accuracy: 0.8710\n",
            "Epoch 41/150\n",
            "250/250 [==============================] - 0s 1ms/step - loss: 0.3010 - accuracy: 0.8791\n",
            "Epoch 42/150\n",
            "250/250 [==============================] - 0s 1ms/step - loss: 0.3166 - accuracy: 0.8733\n",
            "Epoch 43/150\n",
            "250/250 [==============================] - 0s 1ms/step - loss: 0.3041 - accuracy: 0.8777\n",
            "Epoch 44/150\n",
            "250/250 [==============================] - 0s 1ms/step - loss: 0.3100 - accuracy: 0.8727\n",
            "Epoch 45/150\n",
            "250/250 [==============================] - 0s 1ms/step - loss: 0.2978 - accuracy: 0.8767\n",
            "Epoch 46/150\n",
            "250/250 [==============================] - 0s 1ms/step - loss: 0.3157 - accuracy: 0.8648\n",
            "Epoch 47/150\n",
            "250/250 [==============================] - 0s 1ms/step - loss: 0.3038 - accuracy: 0.8776\n",
            "Epoch 48/150\n",
            "250/250 [==============================] - 0s 1ms/step - loss: 0.3097 - accuracy: 0.8741\n",
            "Epoch 49/150\n",
            "250/250 [==============================] - 0s 1ms/step - loss: 0.3034 - accuracy: 0.8700\n",
            "Epoch 50/150\n",
            "250/250 [==============================] - 0s 1ms/step - loss: 0.2981 - accuracy: 0.8799\n",
            "Epoch 51/150\n",
            "250/250 [==============================] - 0s 1ms/step - loss: 0.3015 - accuracy: 0.8747\n",
            "Epoch 52/150\n",
            "250/250 [==============================] - 0s 1ms/step - loss: 0.2938 - accuracy: 0.8795\n",
            "Epoch 53/150\n",
            "250/250 [==============================] - 0s 1ms/step - loss: 0.3015 - accuracy: 0.8787\n",
            "Epoch 54/150\n",
            "250/250 [==============================] - 0s 1ms/step - loss: 0.2947 - accuracy: 0.8757\n",
            "Epoch 55/150\n",
            "250/250 [==============================] - 0s 1ms/step - loss: 0.3052 - accuracy: 0.8711\n",
            "Epoch 56/150\n",
            "250/250 [==============================] - 0s 1ms/step - loss: 0.3010 - accuracy: 0.8798\n",
            "Epoch 57/150\n",
            "250/250 [==============================] - 0s 1ms/step - loss: 0.3038 - accuracy: 0.8758\n",
            "Epoch 58/150\n",
            "250/250 [==============================] - 0s 1ms/step - loss: 0.3012 - accuracy: 0.8733\n",
            "Epoch 59/150\n",
            "250/250 [==============================] - 0s 1ms/step - loss: 0.2935 - accuracy: 0.8805\n",
            "Epoch 60/150\n",
            "250/250 [==============================] - 0s 1ms/step - loss: 0.2970 - accuracy: 0.8760\n",
            "Epoch 61/150\n",
            "250/250 [==============================] - 0s 1ms/step - loss: 0.2873 - accuracy: 0.8797\n",
            "Epoch 62/150\n",
            "250/250 [==============================] - 0s 1ms/step - loss: 0.2900 - accuracy: 0.8782\n",
            "Epoch 63/150\n",
            "250/250 [==============================] - 0s 1ms/step - loss: 0.2825 - accuracy: 0.8840\n",
            "Epoch 64/150\n",
            "250/250 [==============================] - 0s 1ms/step - loss: 0.2937 - accuracy: 0.8830\n",
            "Epoch 65/150\n",
            "250/250 [==============================] - 0s 1ms/step - loss: 0.2947 - accuracy: 0.8791\n",
            "Epoch 66/150\n",
            "250/250 [==============================] - 0s 1ms/step - loss: 0.2890 - accuracy: 0.8837\n",
            "Epoch 67/150\n",
            "250/250 [==============================] - 0s 1ms/step - loss: 0.2874 - accuracy: 0.8782\n",
            "Epoch 68/150\n",
            "250/250 [==============================] - 0s 1ms/step - loss: 0.2838 - accuracy: 0.8850\n",
            "Epoch 69/150\n",
            "250/250 [==============================] - 0s 1ms/step - loss: 0.2856 - accuracy: 0.8881\n",
            "Epoch 70/150\n",
            "250/250 [==============================] - 0s 1ms/step - loss: 0.2900 - accuracy: 0.8833\n",
            "Epoch 71/150\n",
            "250/250 [==============================] - 0s 1ms/step - loss: 0.2864 - accuracy: 0.8803\n",
            "Epoch 72/150\n",
            "250/250 [==============================] - 0s 1ms/step - loss: 0.2884 - accuracy: 0.8791\n",
            "Epoch 73/150\n",
            "250/250 [==============================] - 0s 1ms/step - loss: 0.2805 - accuracy: 0.8837\n",
            "Epoch 74/150\n",
            "250/250 [==============================] - 0s 1ms/step - loss: 0.2825 - accuracy: 0.8836\n",
            "Epoch 75/150\n",
            "250/250 [==============================] - 0s 1ms/step - loss: 0.2766 - accuracy: 0.8856\n",
            "Epoch 76/150\n",
            "250/250 [==============================] - 0s 1ms/step - loss: 0.2752 - accuracy: 0.8896\n",
            "Epoch 77/150\n",
            "250/250 [==============================] - 0s 1ms/step - loss: 0.2807 - accuracy: 0.8835\n",
            "Epoch 78/150\n",
            "250/250 [==============================] - 0s 1ms/step - loss: 0.2754 - accuracy: 0.8868\n",
            "Epoch 79/150\n",
            "250/250 [==============================] - 0s 1ms/step - loss: 0.2811 - accuracy: 0.8848\n",
            "Epoch 80/150\n",
            "250/250 [==============================] - 0s 1ms/step - loss: 0.2660 - accuracy: 0.8917\n",
            "Epoch 81/150\n",
            "250/250 [==============================] - 0s 1ms/step - loss: 0.2789 - accuracy: 0.8883\n",
            "Epoch 82/150\n",
            "250/250 [==============================] - 0s 2ms/step - loss: 0.2762 - accuracy: 0.8826\n",
            "Epoch 83/150\n",
            "250/250 [==============================] - 0s 1ms/step - loss: 0.2861 - accuracy: 0.8840\n",
            "Epoch 84/150\n",
            "250/250 [==============================] - 0s 1ms/step - loss: 0.2812 - accuracy: 0.8803\n",
            "Epoch 85/150\n",
            "250/250 [==============================] - 0s 2ms/step - loss: 0.2721 - accuracy: 0.8868\n",
            "Epoch 86/150\n",
            "250/250 [==============================] - 0s 1ms/step - loss: 0.2791 - accuracy: 0.8851\n",
            "Epoch 87/150\n",
            "250/250 [==============================] - 0s 1ms/step - loss: 0.2618 - accuracy: 0.8963\n",
            "Epoch 88/150\n",
            "250/250 [==============================] - 0s 1ms/step - loss: 0.2742 - accuracy: 0.8843\n",
            "Epoch 89/150\n",
            "250/250 [==============================] - 0s 2ms/step - loss: 0.2712 - accuracy: 0.8884\n",
            "Epoch 90/150\n",
            "250/250 [==============================] - 0s 2ms/step - loss: 0.2752 - accuracy: 0.8845\n",
            "Epoch 91/150\n",
            "250/250 [==============================] - 0s 1ms/step - loss: 0.2640 - accuracy: 0.8928\n",
            "Epoch 92/150\n",
            "250/250 [==============================] - 0s 1ms/step - loss: 0.2768 - accuracy: 0.8844\n",
            "Epoch 93/150\n",
            "250/250 [==============================] - 0s 1ms/step - loss: 0.2800 - accuracy: 0.8823\n",
            "Epoch 94/150\n",
            "250/250 [==============================] - 0s 1ms/step - loss: 0.2642 - accuracy: 0.8890\n",
            "Epoch 95/150\n",
            "250/250 [==============================] - 0s 1ms/step - loss: 0.2619 - accuracy: 0.8940\n",
            "Epoch 96/150\n",
            "250/250 [==============================] - 0s 1ms/step - loss: 0.2629 - accuracy: 0.8940\n",
            "Epoch 97/150\n",
            "250/250 [==============================] - 0s 1ms/step - loss: 0.2550 - accuracy: 0.8964\n",
            "Epoch 98/150\n",
            "250/250 [==============================] - 0s 1ms/step - loss: 0.2604 - accuracy: 0.8925\n",
            "Epoch 99/150\n",
            "250/250 [==============================] - 0s 1ms/step - loss: 0.2742 - accuracy: 0.8837\n",
            "Epoch 100/150\n",
            "250/250 [==============================] - 0s 1ms/step - loss: 0.2706 - accuracy: 0.8869\n",
            "Epoch 101/150\n",
            "250/250 [==============================] - 0s 2ms/step - loss: 0.2535 - accuracy: 0.8963\n",
            "Epoch 102/150\n",
            "250/250 [==============================] - 0s 1ms/step - loss: 0.2643 - accuracy: 0.8881\n",
            "Epoch 103/150\n",
            "250/250 [==============================] - 0s 1ms/step - loss: 0.2544 - accuracy: 0.8950\n",
            "Epoch 104/150\n",
            "250/250 [==============================] - 0s 1ms/step - loss: 0.2671 - accuracy: 0.8883\n",
            "Epoch 105/150\n",
            "250/250 [==============================] - 0s 1ms/step - loss: 0.2583 - accuracy: 0.8895\n",
            "Epoch 106/150\n",
            "250/250 [==============================] - 0s 1ms/step - loss: 0.2641 - accuracy: 0.8889\n",
            "Epoch 107/150\n",
            "250/250 [==============================] - 0s 1ms/step - loss: 0.2651 - accuracy: 0.8899\n",
            "Epoch 108/150\n",
            "250/250 [==============================] - 0s 1ms/step - loss: 0.2676 - accuracy: 0.8876\n",
            "Epoch 109/150\n",
            "250/250 [==============================] - 0s 1ms/step - loss: 0.2579 - accuracy: 0.8896\n",
            "Epoch 110/150\n",
            "250/250 [==============================] - 0s 1ms/step - loss: 0.2516 - accuracy: 0.8958\n",
            "Epoch 111/150\n",
            "250/250 [==============================] - 0s 1ms/step - loss: 0.2553 - accuracy: 0.8950\n",
            "Epoch 112/150\n",
            "250/250 [==============================] - 0s 1ms/step - loss: 0.2429 - accuracy: 0.8975\n",
            "Epoch 113/150\n",
            "250/250 [==============================] - 0s 1ms/step - loss: 0.2498 - accuracy: 0.9016\n",
            "Epoch 114/150\n",
            "250/250 [==============================] - 0s 1ms/step - loss: 0.2591 - accuracy: 0.8895\n",
            "Epoch 115/150\n",
            "250/250 [==============================] - 0s 1ms/step - loss: 0.2464 - accuracy: 0.8970\n",
            "Epoch 116/150\n",
            "250/250 [==============================] - 0s 1ms/step - loss: 0.2534 - accuracy: 0.8932\n",
            "Epoch 117/150\n",
            "250/250 [==============================] - 0s 1ms/step - loss: 0.2577 - accuracy: 0.8943\n",
            "Epoch 118/150\n",
            "250/250 [==============================] - 0s 2ms/step - loss: 0.2532 - accuracy: 0.8933\n",
            "Epoch 119/150\n",
            "250/250 [==============================] - 0s 1ms/step - loss: 0.2476 - accuracy: 0.8947\n",
            "Epoch 120/150\n",
            "250/250 [==============================] - 0s 1ms/step - loss: 0.2518 - accuracy: 0.8982\n",
            "Epoch 121/150\n",
            "250/250 [==============================] - 0s 1ms/step - loss: 0.2412 - accuracy: 0.8993\n",
            "Epoch 122/150\n",
            "250/250 [==============================] - 0s 1ms/step - loss: 0.2426 - accuracy: 0.8986\n",
            "Epoch 123/150\n",
            "250/250 [==============================] - 0s 2ms/step - loss: 0.2437 - accuracy: 0.9016\n",
            "Epoch 124/150\n",
            "250/250 [==============================] - 0s 1ms/step - loss: 0.2525 - accuracy: 0.8925\n",
            "Epoch 125/150\n",
            "250/250 [==============================] - 0s 1ms/step - loss: 0.2396 - accuracy: 0.9011\n",
            "Epoch 126/150\n",
            "250/250 [==============================] - 0s 1ms/step - loss: 0.2390 - accuracy: 0.9039\n",
            "Epoch 127/150\n",
            "250/250 [==============================] - 0s 1ms/step - loss: 0.2505 - accuracy: 0.8952\n",
            "Epoch 128/150\n",
            "250/250 [==============================] - 0s 1ms/step - loss: 0.2333 - accuracy: 0.9055\n",
            "Epoch 129/150\n",
            "250/250 [==============================] - 0s 1ms/step - loss: 0.2385 - accuracy: 0.9027\n",
            "Epoch 130/150\n",
            "250/250 [==============================] - 0s 1ms/step - loss: 0.2466 - accuracy: 0.8960\n",
            "Epoch 131/150\n",
            "250/250 [==============================] - 0s 1ms/step - loss: 0.2464 - accuracy: 0.8955\n",
            "Epoch 132/150\n",
            "250/250 [==============================] - 0s 1ms/step - loss: 0.2346 - accuracy: 0.9039\n",
            "Epoch 133/150\n",
            "250/250 [==============================] - 0s 1ms/step - loss: 0.2441 - accuracy: 0.8987\n",
            "Epoch 134/150\n",
            "250/250 [==============================] - 0s 2ms/step - loss: 0.2405 - accuracy: 0.8992\n",
            "Epoch 135/150\n",
            "250/250 [==============================] - 0s 1ms/step - loss: 0.2393 - accuracy: 0.9037\n",
            "Epoch 136/150\n",
            "250/250 [==============================] - 0s 2ms/step - loss: 0.2472 - accuracy: 0.8986\n",
            "Epoch 137/150\n",
            "250/250 [==============================] - 0s 1ms/step - loss: 0.2312 - accuracy: 0.9079\n",
            "Epoch 138/150\n",
            "250/250 [==============================] - 0s 1ms/step - loss: 0.2410 - accuracy: 0.8997\n",
            "Epoch 139/150\n",
            "250/250 [==============================] - 0s 1ms/step - loss: 0.2468 - accuracy: 0.8966\n",
            "Epoch 140/150\n",
            "250/250 [==============================] - 0s 2ms/step - loss: 0.2391 - accuracy: 0.9002\n",
            "Epoch 141/150\n",
            "250/250 [==============================] - 0s 2ms/step - loss: 0.2446 - accuracy: 0.8956\n",
            "Epoch 142/150\n",
            "250/250 [==============================] - 0s 2ms/step - loss: 0.2314 - accuracy: 0.9053\n",
            "Epoch 143/150\n",
            "250/250 [==============================] - 0s 2ms/step - loss: 0.2413 - accuracy: 0.8980\n",
            "Epoch 144/150\n",
            "250/250 [==============================] - 0s 2ms/step - loss: 0.2290 - accuracy: 0.9031\n",
            "Epoch 145/150\n",
            "250/250 [==============================] - 0s 1ms/step - loss: 0.2332 - accuracy: 0.8978\n",
            "Epoch 146/150\n",
            "250/250 [==============================] - 0s 2ms/step - loss: 0.2348 - accuracy: 0.9012\n",
            "Epoch 147/150\n",
            "250/250 [==============================] - 0s 1ms/step - loss: 0.2292 - accuracy: 0.9087\n",
            "Epoch 148/150\n",
            "250/250 [==============================] - 0s 1ms/step - loss: 0.2354 - accuracy: 0.8998\n",
            "Epoch 149/150\n",
            "250/250 [==============================] - 0s 2ms/step - loss: 0.2219 - accuracy: 0.9105\n",
            "Epoch 150/150\n",
            "250/250 [==============================] - 0s 2ms/step - loss: 0.2347 - accuracy: 0.9038\n"
          ],
          "name": "stdout"
        },
        {
          "output_type": "execute_result",
          "data": {
            "text/plain": [
              "<tensorflow.python.keras.callbacks.History at 0x7fc88da9d080>"
            ]
          },
          "metadata": {
            "tags": []
          },
          "execution_count": 60
        }
      ]
    },
    {
      "cell_type": "code",
      "metadata": {
        "colab": {
          "base_uri": "https://localhost:8080/"
        },
        "id": "rI_6q5grauK6",
        "outputId": "429019cc-6eb2-48dd-dd43-94e413b11e7d"
      },
      "source": [
        "model.evaluate(x_test,y_test)"
      ],
      "execution_count": 61,
      "outputs": [
        {
          "output_type": "stream",
          "text": [
            "63/63 [==============================] - 0s 976us/step - loss: 0.4477 - accuracy: 0.8225\n"
          ],
          "name": "stdout"
        },
        {
          "output_type": "execute_result",
          "data": {
            "text/plain": [
              "[0.44774362444877625, 0.8224999904632568]"
            ]
          },
          "metadata": {
            "tags": []
          },
          "execution_count": 61
        }
      ]
    },
    {
      "cell_type": "code",
      "metadata": {
        "id": "uhMg0Mcif2wz"
      },
      "source": [
        "y_predicted= model.predict(x_test)"
      ],
      "execution_count": 62,
      "outputs": []
    },
    {
      "cell_type": "code",
      "metadata": {
        "colab": {
          "base_uri": "https://localhost:8080/"
        },
        "id": "D4tkPkXuf96m",
        "outputId": "6c1d2613-df94-4161-90a9-8f12188fc0dd"
      },
      "source": [
        "y_predicted[:10]"
      ],
      "execution_count": 63,
      "outputs": [
        {
          "output_type": "execute_result",
          "data": {
            "text/plain": [
              "array([[0.00578904],\n",
              "       [0.6623341 ],\n",
              "       [0.11648759],\n",
              "       [0.09722695],\n",
              "       [0.01573694],\n",
              "       [0.00683793],\n",
              "       [0.0396159 ],\n",
              "       [1.        ],\n",
              "       [0.01192018],\n",
              "       [0.0102694 ]], dtype=float32)"
            ]
          },
          "metadata": {
            "tags": []
          },
          "execution_count": 63
        }
      ]
    },
    {
      "cell_type": "code",
      "metadata": {
        "colab": {
          "base_uri": "https://localhost:8080/"
        },
        "id": "FCRTWMJqgPIx",
        "outputId": "cb0b6719-def4-4c33-f569-6d0975c588ff"
      },
      "source": [
        "y_test[:10]"
      ],
      "execution_count": 64,
      "outputs": [
        {
          "output_type": "execute_result",
          "data": {
            "text/plain": [
              "5097    0\n",
              "2580    1\n",
              "260     0\n",
              "6781    0\n",
              "5468    0\n",
              "3977    0\n",
              "2834    0\n",
              "4014    1\n",
              "6224    0\n",
              "8001    0\n",
              "Name: Exited, dtype: int64"
            ]
          },
          "metadata": {
            "tags": []
          },
          "execution_count": 64
        }
      ]
    },
    {
      "cell_type": "code",
      "metadata": {
        "id": "b8RwrEtegUI3"
      },
      "source": [
        "y_pred=[]\r\n",
        "for i in y_predicted:\r\n",
        "  if i>= 0.5:\r\n",
        "    y_pred.append(1)\r\n",
        "  else:\r\n",
        "    y_pred.append(0)"
      ],
      "execution_count": 65,
      "outputs": []
    },
    {
      "cell_type": "code",
      "metadata": {
        "colab": {
          "base_uri": "https://localhost:8080/"
        },
        "id": "uuyu4XLwgt8m",
        "outputId": "2a66d3ab-61d4-4ac9-b6dd-f3795c573a99"
      },
      "source": [
        "y_pred[:10]"
      ],
      "execution_count": 66,
      "outputs": [
        {
          "output_type": "execute_result",
          "data": {
            "text/plain": [
              "[0, 1, 0, 0, 0, 0, 0, 1, 0, 0]"
            ]
          },
          "metadata": {
            "tags": []
          },
          "execution_count": 66
        }
      ]
    },
    {
      "cell_type": "code",
      "metadata": {
        "colab": {
          "base_uri": "https://localhost:8080/"
        },
        "id": "TjgVD-3JgwTk",
        "outputId": "cda5667a-ba45-41b7-97ad-813276fcd03a"
      },
      "source": [
        "from sklearn.metrics import classification_report\r\n",
        "print(classification_report(y_test,y_pred))"
      ],
      "execution_count": 67,
      "outputs": [
        {
          "output_type": "stream",
          "text": [
            "              precision    recall  f1-score   support\n",
            "\n",
            "           0       0.87      0.91      0.89      1583\n",
            "           1       0.59      0.48      0.53       417\n",
            "\n",
            "    accuracy                           0.82      2000\n",
            "   macro avg       0.73      0.70      0.71      2000\n",
            "weighted avg       0.81      0.82      0.82      2000\n",
            "\n"
          ],
          "name": "stdout"
        }
      ]
    },
    {
      "cell_type": "code",
      "metadata": {
        "colab": {
          "base_uri": "https://localhost:8080/",
          "height": 427
        },
        "id": "ur-9Xnt2h5dS",
        "outputId": "9bec8022-f2b8-4096-cf71-063ac3dbcfe8"
      },
      "source": [
        "data= tf.math.confusion_matrix(labels=y_test, predictions=y_pred)\r\n",
        "plt.figure(figsize=(8,6))\r\n",
        "sns.heatmap(data, annot=True, fmt='d')\r\n",
        "plt.xlabel('Predicted')\r\n",
        "plt.ylabel('True')\r\n",
        "plt.title('Confusion Matrix')"
      ],
      "execution_count": 79,
      "outputs": [
        {
          "output_type": "execute_result",
          "data": {
            "text/plain": [
              "Text(0.5, 1.0, 'Confusion Matrix')"
            ]
          },
          "metadata": {
            "tags": []
          },
          "execution_count": 79
        },
        {
          "output_type": "display_data",
          "data": {
            "image/png": "[encoded data removed]",
            "text/plain": [
              "<Figure size 576x432 with 2 Axes>"
            ]
          },
          "metadata": {
            "tags": [],
            "needs_background": "light"
          }
        }
      ]
    },
    {
      "cell_type": "code",
      "metadata": {
        "id": "-Ysw7VqbiNxT"
      },
      "source": [
        ""
      ],
      "execution_count": null,
      "outputs": []
    }
  ]
}