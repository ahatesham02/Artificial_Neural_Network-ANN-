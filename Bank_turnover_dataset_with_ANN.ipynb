{
  "nbformat": 4,
  "nbformat_minor": 0,
  "metadata": {
    "colab": {
      "name": "Bank_turnover_dataset_with_ANN.ipynb",
      "provenance": [],
      "collapsed_sections": [],
      "authorship_tag": "ABX9TyOX9Q7WcwuvD0QyqW1MQW2A",
      "include_colab_link": true
    },
    "kernelspec": {
      "name": "python3",
      "display_name": "Python 3"
    }
  },
  "cells": [
    {
      "cell_type": "markdown",
      "metadata": {
        "id": "view-in-github",
        "colab_type": "text"
      },
      "source": [
        "<a href=\"https://colab.research.google.com/github/ahatesham02/Artificial_Neural_Network-ANN-/blob/main/Bank_turnover_dataset_with_ANN.ipynb\" target=\"_parent\"><img src=\"https://colab.research.google.com/assets/colab-badge.svg\" alt=\"Open In Colab\"/></a>"
      ]
    },
    {
      "cell_type": "markdown",
      "metadata": {
        "id": "72htOafbf87V"
      },
      "source": [
        "# Churn Prediction with Artificial Neural Network(ANN) with Bank Turnover dataset."
      ]
    },
    {
      "cell_type": "code",
      "metadata": {
        "id": "3M5rgFPeL9mn"
      },
      "source": [
        "import pandas as pd # data processing, CSV file I/O (e.g. pd.read_csv)\r\n",
        "import numpy as np # linear algebra\r\n",
        "import matplotlib.pyplot as plt\r\n",
        "import seaborn as sns # for data visualization\r\n",
        "sns.set(style=\"whitegrid\", color_codes=True)\r\n",
        "import tensorflow as tf\r\n",
        "from tensorflow import keras\r\n",
        "%matplotlib inline"
      ],
      "execution_count": null,
      "outputs": []
    },
    {
      "cell_type": "code",
      "metadata": {
        "colab": {
          "base_uri": "https://localhost:8080/",
          "height": 195
        },
        "id": "wNnSqgn2MI4M",
        "outputId": "e4bb567d-cbea-48c6-8537-f71036a07943"
      },
      "source": [
        "df= pd.read_csv('Churn_Modelling.csv') # load and read csv files into dataframe\r\n",
        "df.sample(5)"
      ],
      "execution_count": null,
      "outputs": [
        {
          "output_type": "execute_result",
          "data": {
            "text/html": [
              "<div>\n",
              "<style scoped>\n",
              "    .dataframe tbody tr th:only-of-type {\n",
              "        vertical-align: middle;\n",
              "    }\n",
              "\n",
              "    .dataframe tbody tr th {\n",
              "        vertical-align: top;\n",
              "    }\n",
              "\n",
              "    .dataframe thead th {\n",
              "        text-align: right;\n",
              "    }\n",
              "</style>\n",
              "<table border=\"1\" class=\"dataframe\">\n",
              "  <thead>\n",
              "    <tr style=\"text-align: right;\">\n",
              "      <th></th>\n",
              "      <th>RowNumber</th>\n",
              "      <th>CustomerId</th>\n",
              "      <th>Surname</th>\n",
              "      <th>CreditScore</th>\n",
              "      <th>Geography</th>\n",
              "      <th>Gender</th>\n",
              "      <th>Age</th>\n",
              "      <th>Tenure</th>\n",
              "      <th>Balance</th>\n",
              "      <th>NumOfProducts</th>\n",
              "      <th>HasCrCard</th>\n",
              "      <th>IsActiveMember</th>\n",
              "      <th>EstimatedSalary</th>\n",
              "      <th>Exited</th>\n",
              "    </tr>\n",
              "  </thead>\n",
              "  <tbody>\n",
              "    <tr>\n",
              "      <th>5036</th>\n",
              "      <td>5037</td>\n",
              "      <td>15805429</td>\n",
              "      <td>Murray</td>\n",
              "      <td>699</td>\n",
              "      <td>Germany</td>\n",
              "      <td>Male</td>\n",
              "      <td>59</td>\n",
              "      <td>3</td>\n",
              "      <td>106819.65</td>\n",
              "      <td>1</td>\n",
              "      <td>0</td>\n",
              "      <td>1</td>\n",
              "      <td>163570.25</td>\n",
              "      <td>0</td>\n",
              "    </tr>\n",
              "    <tr>\n",
              "      <th>4566</th>\n",
              "      <td>4567</td>\n",
              "      <td>15580682</td>\n",
              "      <td>Tsai</td>\n",
              "      <td>652</td>\n",
              "      <td>France</td>\n",
              "      <td>Female</td>\n",
              "      <td>40</td>\n",
              "      <td>4</td>\n",
              "      <td>79927.36</td>\n",
              "      <td>2</td>\n",
              "      <td>1</td>\n",
              "      <td>1</td>\n",
              "      <td>33524.60</td>\n",
              "      <td>0</td>\n",
              "    </tr>\n",
              "    <tr>\n",
              "      <th>8983</th>\n",
              "      <td>8984</td>\n",
              "      <td>15783025</td>\n",
              "      <td>Piazza</td>\n",
              "      <td>723</td>\n",
              "      <td>Germany</td>\n",
              "      <td>Male</td>\n",
              "      <td>37</td>\n",
              "      <td>3</td>\n",
              "      <td>94661.53</td>\n",
              "      <td>2</td>\n",
              "      <td>1</td>\n",
              "      <td>0</td>\n",
              "      <td>121239.65</td>\n",
              "      <td>0</td>\n",
              "    </tr>\n",
              "    <tr>\n",
              "      <th>8751</th>\n",
              "      <td>8752</td>\n",
              "      <td>15635531</td>\n",
              "      <td>Boag</td>\n",
              "      <td>575</td>\n",
              "      <td>Spain</td>\n",
              "      <td>Female</td>\n",
              "      <td>30</td>\n",
              "      <td>8</td>\n",
              "      <td>0.00</td>\n",
              "      <td>2</td>\n",
              "      <td>1</td>\n",
              "      <td>0</td>\n",
              "      <td>185341.63</td>\n",
              "      <td>0</td>\n",
              "    </tr>\n",
              "    <tr>\n",
              "      <th>4079</th>\n",
              "      <td>4080</td>\n",
              "      <td>15694601</td>\n",
              "      <td>Ankudinov</td>\n",
              "      <td>583</td>\n",
              "      <td>France</td>\n",
              "      <td>Female</td>\n",
              "      <td>31</td>\n",
              "      <td>4</td>\n",
              "      <td>158978.79</td>\n",
              "      <td>1</td>\n",
              "      <td>1</td>\n",
              "      <td>0</td>\n",
              "      <td>12538.92</td>\n",
              "      <td>0</td>\n",
              "    </tr>\n",
              "  </tbody>\n",
              "</table>\n",
              "</div>"
            ],
            "text/plain": [
              "      RowNumber  CustomerId    Surname  ...  IsActiveMember EstimatedSalary Exited\n",
              "5036       5037    15805429     Murray  ...               1       163570.25      0\n",
              "4566       4567    15580682       Tsai  ...               1        33524.60      0\n",
              "8983       8984    15783025     Piazza  ...               0       121239.65      0\n",
              "8751       8752    15635531       Boag  ...               0       185341.63      0\n",
              "4079       4080    15694601  Ankudinov  ...               0        12538.92      0\n",
              "\n",
              "[5 rows x 14 columns]"
            ]
          },
          "metadata": {
            "tags": []
          },
          "execution_count": 44
        }
      ]
    },
    {
      "cell_type": "markdown",
      "metadata": {
        "id": "raMeShyQS68w"
      },
      "source": [
        "## Data preprocesing and cleaning"
      ]
    },
    {
      "cell_type": "code",
      "metadata": {
        "colab": {
          "base_uri": "https://localhost:8080/"
        },
        "id": "O7mKNXuaM2O7",
        "outputId": "054a07b2-4370-483d-d387-c471084bc2ea"
      },
      "source": [
        "df.shape"
      ],
      "execution_count": null,
      "outputs": [
        {
          "output_type": "execute_result",
          "data": {
            "text/plain": [
              "(10000, 14)"
            ]
          },
          "metadata": {
            "tags": []
          },
          "execution_count": 45
        }
      ]
    },
    {
      "cell_type": "code",
      "metadata": {
        "id": "fgYRzsprM5b1"
      },
      "source": [
        "df.drop(['RowNumber','CustomerId','Surname'], axis='columns', inplace=True)"
      ],
      "execution_count": null,
      "outputs": []
    },
    {
      "cell_type": "markdown",
      "metadata": {
        "id": "NsFf72aLUJd0"
      },
      "source": [
        "'RowNumber', CustomerId', 'Surname' these 3 columns are not necessary for churn prediction.So using 'drop' function we deletes these columns.\r\n"
      ]
    },
    {
      "cell_type": "code",
      "metadata": {
        "colab": {
          "base_uri": "https://localhost:8080/",
          "height": 195
        },
        "id": "Rwu0CtCxNO7P",
        "outputId": "6c201c60-246e-4975-ba45-6ce62bdfe724"
      },
      "source": [
        "df.head()"
      ],
      "execution_count": null,
      "outputs": [
        {
          "output_type": "execute_result",
          "data": {
            "text/html": [
              "<div>\n",
              "<style scoped>\n",
              "    .dataframe tbody tr th:only-of-type {\n",
              "        vertical-align: middle;\n",
              "    }\n",
              "\n",
              "    .dataframe tbody tr th {\n",
              "        vertical-align: top;\n",
              "    }\n",
              "\n",
              "    .dataframe thead th {\n",
              "        text-align: right;\n",
              "    }\n",
              "</style>\n",
              "<table border=\"1\" class=\"dataframe\">\n",
              "  <thead>\n",
              "    <tr style=\"text-align: right;\">\n",
              "      <th></th>\n",
              "      <th>CreditScore</th>\n",
              "      <th>Geography</th>\n",
              "      <th>Gender</th>\n",
              "      <th>Age</th>\n",
              "      <th>Tenure</th>\n",
              "      <th>Balance</th>\n",
              "      <th>NumOfProducts</th>\n",
              "      <th>HasCrCard</th>\n",
              "      <th>IsActiveMember</th>\n",
              "      <th>EstimatedSalary</th>\n",
              "      <th>Exited</th>\n",
              "    </tr>\n",
              "  </thead>\n",
              "  <tbody>\n",
              "    <tr>\n",
              "      <th>0</th>\n",
              "      <td>619</td>\n",
              "      <td>France</td>\n",
              "      <td>Female</td>\n",
              "      <td>42</td>\n",
              "      <td>2</td>\n",
              "      <td>0.00</td>\n",
              "      <td>1</td>\n",
              "      <td>1</td>\n",
              "      <td>1</td>\n",
              "      <td>101348.88</td>\n",
              "      <td>1</td>\n",
              "    </tr>\n",
              "    <tr>\n",
              "      <th>1</th>\n",
              "      <td>608</td>\n",
              "      <td>Spain</td>\n",
              "      <td>Female</td>\n",
              "      <td>41</td>\n",
              "      <td>1</td>\n",
              "      <td>83807.86</td>\n",
              "      <td>1</td>\n",
              "      <td>0</td>\n",
              "      <td>1</td>\n",
              "      <td>112542.58</td>\n",
              "      <td>0</td>\n",
              "    </tr>\n",
              "    <tr>\n",
              "      <th>2</th>\n",
              "      <td>502</td>\n",
              "      <td>France</td>\n",
              "      <td>Female</td>\n",
              "      <td>42</td>\n",
              "      <td>8</td>\n",
              "      <td>159660.80</td>\n",
              "      <td>3</td>\n",
              "      <td>1</td>\n",
              "      <td>0</td>\n",
              "      <td>113931.57</td>\n",
              "      <td>1</td>\n",
              "    </tr>\n",
              "    <tr>\n",
              "      <th>3</th>\n",
              "      <td>699</td>\n",
              "      <td>France</td>\n",
              "      <td>Female</td>\n",
              "      <td>39</td>\n",
              "      <td>1</td>\n",
              "      <td>0.00</td>\n",
              "      <td>2</td>\n",
              "      <td>0</td>\n",
              "      <td>0</td>\n",
              "      <td>93826.63</td>\n",
              "      <td>0</td>\n",
              "    </tr>\n",
              "    <tr>\n",
              "      <th>4</th>\n",
              "      <td>850</td>\n",
              "      <td>Spain</td>\n",
              "      <td>Female</td>\n",
              "      <td>43</td>\n",
              "      <td>2</td>\n",
              "      <td>125510.82</td>\n",
              "      <td>1</td>\n",
              "      <td>1</td>\n",
              "      <td>1</td>\n",
              "      <td>79084.10</td>\n",
              "      <td>0</td>\n",
              "    </tr>\n",
              "  </tbody>\n",
              "</table>\n",
              "</div>"
            ],
            "text/plain": [
              "   CreditScore Geography  Gender  ...  IsActiveMember  EstimatedSalary  Exited\n",
              "0          619    France  Female  ...               1        101348.88       1\n",
              "1          608     Spain  Female  ...               1        112542.58       0\n",
              "2          502    France  Female  ...               0        113931.57       1\n",
              "3          699    France  Female  ...               0         93826.63       0\n",
              "4          850     Spain  Female  ...               1         79084.10       0\n",
              "\n",
              "[5 rows x 11 columns]"
            ]
          },
          "metadata": {
            "tags": []
          },
          "execution_count": 47
        }
      ]
    },
    {
      "cell_type": "code",
      "metadata": {
        "colab": {
          "base_uri": "https://localhost:8080/"
        },
        "id": "bVmJ9losNRHC",
        "outputId": "f6dd2d7c-cf48-49b6-b00a-fa1e22cb75b0"
      },
      "source": [
        "df.shape"
      ],
      "execution_count": null,
      "outputs": [
        {
          "output_type": "execute_result",
          "data": {
            "text/plain": [
              "(10000, 11)"
            ]
          },
          "metadata": {
            "tags": []
          },
          "execution_count": 48
        }
      ]
    },
    {
      "cell_type": "code",
      "metadata": {
        "colab": {
          "base_uri": "https://localhost:8080/"
        },
        "id": "_BX6-tsTNlGm",
        "outputId": "ce582f96-17a9-4475-acf9-a920df2e28a2"
      },
      "source": [
        "df.info()"
      ],
      "execution_count": null,
      "outputs": [
        {
          "output_type": "stream",
          "text": [
            "<class 'pandas.core.frame.DataFrame'>\n",
            "RangeIndex: 10000 entries, 0 to 9999\n",
            "Data columns (total 11 columns):\n",
            " #   Column           Non-Null Count  Dtype  \n",
            "---  ------           --------------  -----  \n",
            " 0   CreditScore      10000 non-null  int64  \n",
            " 1   Geography        10000 non-null  object \n",
            " 2   Gender           10000 non-null  object \n",
            " 3   Age              10000 non-null  int64  \n",
            " 4   Tenure           10000 non-null  int64  \n",
            " 5   Balance          10000 non-null  float64\n",
            " 6   NumOfProducts    10000 non-null  int64  \n",
            " 7   HasCrCard        10000 non-null  int64  \n",
            " 8   IsActiveMember   10000 non-null  int64  \n",
            " 9   EstimatedSalary  10000 non-null  float64\n",
            " 10  Exited           10000 non-null  int64  \n",
            "dtypes: float64(2), int64(7), object(2)\n",
            "memory usage: 859.5+ KB\n"
          ],
          "name": "stdout"
        }
      ]
    },
    {
      "cell_type": "code",
      "metadata": {
        "colab": {
          "base_uri": "https://localhost:8080/"
        },
        "id": "ckpoeoACNok8",
        "outputId": "cb8dff9b-49ff-475c-97ff-14e72ebed8c0"
      },
      "source": [
        "df.isnull().sum() # check is there any missing value"
      ],
      "execution_count": null,
      "outputs": [
        {
          "output_type": "execute_result",
          "data": {
            "text/plain": [
              "CreditScore        0\n",
              "Geography          0\n",
              "Gender             0\n",
              "Age                0\n",
              "Tenure             0\n",
              "Balance            0\n",
              "NumOfProducts      0\n",
              "HasCrCard          0\n",
              "IsActiveMember     0\n",
              "EstimatedSalary    0\n",
              "Exited             0\n",
              "dtype: int64"
            ]
          },
          "metadata": {
            "tags": []
          },
          "execution_count": 50
        }
      ]
    },
    {
      "cell_type": "markdown",
      "metadata": {
        "id": "YL5MSomyU8F4"
      },
      "source": [
        "## Data Visualization"
      ]
    },
    {
      "cell_type": "code",
      "metadata": {
        "colab": {
          "base_uri": "https://localhost:8080/",
          "height": 371
        },
        "id": "mGPYqlG_Om8R",
        "outputId": "ebaee4dc-84ae-4d2c-96ea-891acd513b03"
      },
      "source": [
        "sns.distplot(df['Age'],bins=20 ) # distribution of age data\r\n",
        "plt.title('Age distribution in Bank dataset')\r\n",
        "plt.xlabel('Age')\r\n",
        "plt.ylabel('Density')"
      ],
      "execution_count": null,
      "outputs": [
        {
          "output_type": "stream",
          "text": [
            "/usr/local/lib/python3.6/dist-packages/seaborn/distributions.py:2551: FutureWarning: `distplot` is a deprecated function and will be removed in a future version. Please adapt your code to use either `displot` (a figure-level function with similar flexibility) or `histplot` (an axes-level function for histograms).\n",
            "  warnings.warn(msg, FutureWarning)\n"
          ],
          "name": "stderr"
        },
        {
          "output_type": "execute_result",
          "data": {
            "text/plain": [
              "Text(0, 0.5, 'Density')"
            ]
          },
          "metadata": {
            "tags": []
          },
          "execution_count": 51
        },
        {
          "output_type": "display_data",
          "data": {
            "image/png": "[encoded data removed]",
            "text/plain": [
              "<Figure size 432x288 with 1 Axes>"
            ]
          },
          "metadata": {
            "tags": [],
            "needs_background": "light"
          }
        }
      ]
    },
    {
      "cell_type": "code",
      "metadata": {
        "colab": {
          "base_uri": "https://localhost:8080/"
        },
        "id": "-U8fvPbkO3dE",
        "outputId": "9e07082a-9e5b-429f-dd5e-faf756b901aa"
      },
      "source": [
        "# check object type column unique values\r\n",
        "for i in df:\r\n",
        "  if df[i].dtype == 'object':\r\n",
        "\r\n",
        "    print(i +':',df[i].unique())"
      ],
      "execution_count": null,
      "outputs": [
        {
          "output_type": "stream",
          "text": [
            "Geography: ['France' 'Spain' 'Germany']\n",
            "Gender: ['Female' 'Male']\n"
          ],
          "name": "stdout"
        }
      ]
    },
    {
      "cell_type": "code",
      "metadata": {
        "colab": {
          "base_uri": "https://localhost:8080/",
          "height": 355
        },
        "id": "yrWljMgxQM5s",
        "outputId": "91d531d2-80ff-4687-a3af-60ec48d40bae"
      },
      "source": [
        "sns.countplot(df['Geography'], data=df, palette='mako')"
      ],
      "execution_count": null,
      "outputs": [
        {
          "output_type": "stream",
          "text": [
            "/usr/local/lib/python3.6/dist-packages/seaborn/_decorators.py:43: FutureWarning: Pass the following variable as a keyword arg: x. From version 0.12, the only valid positional argument will be `data`, and passing other arguments without an explicit keyword will result in an error or misinterpretation.\n",
            "  FutureWarning\n"
          ],
          "name": "stderr"
        },
        {
          "output_type": "execute_result",
          "data": {
            "text/plain": [
              "<matplotlib.axes._subplots.AxesSubplot at 0x7efc6310de80>"
            ]
          },
          "metadata": {
            "tags": []
          },
          "execution_count": 53
        },
        {
          "output_type": "display_data",
          "data": {
            "image/png": "[encoded data removed]",
            "text/plain": [
              "<Figure size 432x288 with 1 Axes>"
            ]
          },
          "metadata": {
            "tags": [],
            "needs_background": "light"
          }
        }
      ]
    },
    {
      "cell_type": "code",
      "metadata": {
        "colab": {
          "base_uri": "https://localhost:8080/",
          "height": 355
        },
        "id": "kewWGz4WRUKl",
        "outputId": "9409dcaf-ad6f-4d5a-d18e-d540c3b3c861"
      },
      "source": [
        "sns.countplot(df['Geography'],hue='Exited', data=df, palette='mako', saturation=1.0)"
      ],
      "execution_count": null,
      "outputs": [
        {
          "output_type": "stream",
          "text": [
            "/usr/local/lib/python3.6/dist-packages/seaborn/_decorators.py:43: FutureWarning: Pass the following variable as a keyword arg: x. From version 0.12, the only valid positional argument will be `data`, and passing other arguments without an explicit keyword will result in an error or misinterpretation.\n",
            "  FutureWarning\n"
          ],
          "name": "stderr"
        },
        {
          "output_type": "execute_result",
          "data": {
            "text/plain": [
              "<matplotlib.axes._subplots.AxesSubplot at 0x7efc63049e10>"
            ]
          },
          "metadata": {
            "tags": []
          },
          "execution_count": 54
        },
        {
          "output_type": "display_data",
          "data": {
            "image/png": "[encoded data removed]",
            "text/plain": [
              "<Figure size 432x288 with 1 Axes>"
            ]
          },
          "metadata": {
            "tags": [],
            "needs_background": "light"
          }
        }
      ]
    },
    {
      "cell_type": "code",
      "metadata": {
        "colab": {
          "base_uri": "https://localhost:8080/",
          "height": 355
        },
        "id": "dnX6K7qwSXuC",
        "outputId": "7e1f6ad5-914d-439f-dba2-a32961b1ec87"
      },
      "source": [
        "sns.countplot(df['NumOfProducts'], data=df, hue='Exited', palette='mako', saturation=1.00)"
      ],
      "execution_count": null,
      "outputs": [
        {
          "output_type": "stream",
          "text": [
            "/usr/local/lib/python3.6/dist-packages/seaborn/_decorators.py:43: FutureWarning: Pass the following variable as a keyword arg: x. From version 0.12, the only valid positional argument will be `data`, and passing other arguments without an explicit keyword will result in an error or misinterpretation.\n",
            "  FutureWarning\n"
          ],
          "name": "stderr"
        },
        {
          "output_type": "execute_result",
          "data": {
            "text/plain": [
              "<matplotlib.axes._subplots.AxesSubplot at 0x7efc630160f0>"
            ]
          },
          "metadata": {
            "tags": []
          },
          "execution_count": 55
        },
        {
          "output_type": "display_data",
          "data": {
            "image/png": "[encoded data removed]",
            "text/plain": [
              "<Figure size 432x288 with 1 Axes>"
            ]
          },
          "metadata": {
            "tags": [],
            "needs_background": "light"
          }
        }
      ]
    },
    {
      "cell_type": "code",
      "metadata": {
        "colab": {
          "base_uri": "https://localhost:8080/",
          "height": 355
        },
        "id": "-0JKplf9TZRQ",
        "outputId": "18b16b15-8f92-4793-beb3-85244cac001f"
      },
      "source": [
        "sns.countplot(df['IsActiveMember'], data=df, hue='Exited', palette='mako', saturation=1.00)"
      ],
      "execution_count": null,
      "outputs": [
        {
          "output_type": "stream",
          "text": [
            "/usr/local/lib/python3.6/dist-packages/seaborn/_decorators.py:43: FutureWarning: Pass the following variable as a keyword arg: x. From version 0.12, the only valid positional argument will be `data`, and passing other arguments without an explicit keyword will result in an error or misinterpretation.\n",
            "  FutureWarning\n"
          ],
          "name": "stderr"
        },
        {
          "output_type": "execute_result",
          "data": {
            "text/plain": [
              "<matplotlib.axes._subplots.AxesSubplot at 0x7efc630f70b8>"
            ]
          },
          "metadata": {
            "tags": []
          },
          "execution_count": 56
        },
        {
          "output_type": "display_data",
          "data": {
            "image/png": "[encoded data removed]",
            "text/plain": [
              "<Figure size 432x288 with 1 Axes>"
            ]
          },
          "metadata": {
            "tags": [],
            "needs_background": "light"
          }
        }
      ]
    },
    {
      "cell_type": "markdown",
      "metadata": {
        "id": "yTdTfnABZUXQ"
      },
      "source": [
        "## Data transformation and one hot encoding"
      ]
    },
    {
      "cell_type": "code",
      "metadata": {
        "id": "YSDXtkuLT08R"
      },
      "source": [
        "# Transform categorical data into numerical data\r\n",
        "df['Gender'].replace({'Male':1,'Female':0}, inplace= True) # replacing object type data into numeric data"
      ],
      "execution_count": null,
      "outputs": []
    },
    {
      "cell_type": "code",
      "metadata": {
        "colab": {
          "base_uri": "https://localhost:8080/",
          "height": 195
        },
        "id": "V9AVuMy-UQCN",
        "outputId": "f2b2e487-71a1-493d-f3c1-6e08022a6d15"
      },
      "source": [
        "df.head()"
      ],
      "execution_count": null,
      "outputs": [
        {
          "output_type": "execute_result",
          "data": {
            "text/html": [
              "<div>\n",
              "<style scoped>\n",
              "    .dataframe tbody tr th:only-of-type {\n",
              "        vertical-align: middle;\n",
              "    }\n",
              "\n",
              "    .dataframe tbody tr th {\n",
              "        vertical-align: top;\n",
              "    }\n",
              "\n",
              "    .dataframe thead th {\n",
              "        text-align: right;\n",
              "    }\n",
              "</style>\n",
              "<table border=\"1\" class=\"dataframe\">\n",
              "  <thead>\n",
              "    <tr style=\"text-align: right;\">\n",
              "      <th></th>\n",
              "      <th>CreditScore</th>\n",
              "      <th>Geography</th>\n",
              "      <th>Gender</th>\n",
              "      <th>Age</th>\n",
              "      <th>Tenure</th>\n",
              "      <th>Balance</th>\n",
              "      <th>NumOfProducts</th>\n",
              "      <th>HasCrCard</th>\n",
              "      <th>IsActiveMember</th>\n",
              "      <th>EstimatedSalary</th>\n",
              "      <th>Exited</th>\n",
              "    </tr>\n",
              "  </thead>\n",
              "  <tbody>\n",
              "    <tr>\n",
              "      <th>0</th>\n",
              "      <td>619</td>\n",
              "      <td>France</td>\n",
              "      <td>0</td>\n",
              "      <td>42</td>\n",
              "      <td>2</td>\n",
              "      <td>0.00</td>\n",
              "      <td>1</td>\n",
              "      <td>1</td>\n",
              "      <td>1</td>\n",
              "      <td>101348.88</td>\n",
              "      <td>1</td>\n",
              "    </tr>\n",
              "    <tr>\n",
              "      <th>1</th>\n",
              "      <td>608</td>\n",
              "      <td>Spain</td>\n",
              "      <td>0</td>\n",
              "      <td>41</td>\n",
              "      <td>1</td>\n",
              "      <td>83807.86</td>\n",
              "      <td>1</td>\n",
              "      <td>0</td>\n",
              "      <td>1</td>\n",
              "      <td>112542.58</td>\n",
              "      <td>0</td>\n",
              "    </tr>\n",
              "    <tr>\n",
              "      <th>2</th>\n",
              "      <td>502</td>\n",
              "      <td>France</td>\n",
              "      <td>0</td>\n",
              "      <td>42</td>\n",
              "      <td>8</td>\n",
              "      <td>159660.80</td>\n",
              "      <td>3</td>\n",
              "      <td>1</td>\n",
              "      <td>0</td>\n",
              "      <td>113931.57</td>\n",
              "      <td>1</td>\n",
              "    </tr>\n",
              "    <tr>\n",
              "      <th>3</th>\n",
              "      <td>699</td>\n",
              "      <td>France</td>\n",
              "      <td>0</td>\n",
              "      <td>39</td>\n",
              "      <td>1</td>\n",
              "      <td>0.00</td>\n",
              "      <td>2</td>\n",
              "      <td>0</td>\n",
              "      <td>0</td>\n",
              "      <td>93826.63</td>\n",
              "      <td>0</td>\n",
              "    </tr>\n",
              "    <tr>\n",
              "      <th>4</th>\n",
              "      <td>850</td>\n",
              "      <td>Spain</td>\n",
              "      <td>0</td>\n",
              "      <td>43</td>\n",
              "      <td>2</td>\n",
              "      <td>125510.82</td>\n",
              "      <td>1</td>\n",
              "      <td>1</td>\n",
              "      <td>1</td>\n",
              "      <td>79084.10</td>\n",
              "      <td>0</td>\n",
              "    </tr>\n",
              "  </tbody>\n",
              "</table>\n",
              "</div>"
            ],
            "text/plain": [
              "   CreditScore Geography  Gender  ...  IsActiveMember  EstimatedSalary  Exited\n",
              "0          619    France       0  ...               1        101348.88       1\n",
              "1          608     Spain       0  ...               1        112542.58       0\n",
              "2          502    France       0  ...               0        113931.57       1\n",
              "3          699    France       0  ...               0         93826.63       0\n",
              "4          850     Spain       0  ...               1         79084.10       0\n",
              "\n",
              "[5 rows x 11 columns]"
            ]
          },
          "metadata": {
            "tags": []
          },
          "execution_count": 58
        }
      ]
    },
    {
      "cell_type": "code",
      "metadata": {
        "colab": {
          "base_uri": "https://localhost:8080/",
          "height": 195
        },
        "id": "Pq-wfzX7USLr",
        "outputId": "1adea2d0-d840-4f8b-863f-2c05504e88c8"
      },
      "source": [
        "df1= pd.get_dummies(data= df, columns=['Geography']) # one hot encoding using dummy variables\r\n",
        "df1.head()"
      ],
      "execution_count": null,
      "outputs": [
        {
          "output_type": "execute_result",
          "data": {
            "text/html": [
              "<div>\n",
              "<style scoped>\n",
              "    .dataframe tbody tr th:only-of-type {\n",
              "        vertical-align: middle;\n",
              "    }\n",
              "\n",
              "    .dataframe tbody tr th {\n",
              "        vertical-align: top;\n",
              "    }\n",
              "\n",
              "    .dataframe thead th {\n",
              "        text-align: right;\n",
              "    }\n",
              "</style>\n",
              "<table border=\"1\" class=\"dataframe\">\n",
              "  <thead>\n",
              "    <tr style=\"text-align: right;\">\n",
              "      <th></th>\n",
              "      <th>CreditScore</th>\n",
              "      <th>Gender</th>\n",
              "      <th>Age</th>\n",
              "      <th>Tenure</th>\n",
              "      <th>Balance</th>\n",
              "      <th>NumOfProducts</th>\n",
              "      <th>HasCrCard</th>\n",
              "      <th>IsActiveMember</th>\n",
              "      <th>EstimatedSalary</th>\n",
              "      <th>Exited</th>\n",
              "      <th>Geography_France</th>\n",
              "      <th>Geography_Germany</th>\n",
              "      <th>Geography_Spain</th>\n",
              "    </tr>\n",
              "  </thead>\n",
              "  <tbody>\n",
              "    <tr>\n",
              "      <th>0</th>\n",
              "      <td>619</td>\n",
              "      <td>0</td>\n",
              "      <td>42</td>\n",
              "      <td>2</td>\n",
              "      <td>0.00</td>\n",
              "      <td>1</td>\n",
              "      <td>1</td>\n",
              "      <td>1</td>\n",
              "      <td>101348.88</td>\n",
              "      <td>1</td>\n",
              "      <td>1</td>\n",
              "      <td>0</td>\n",
              "      <td>0</td>\n",
              "    </tr>\n",
              "    <tr>\n",
              "      <th>1</th>\n",
              "      <td>608</td>\n",
              "      <td>0</td>\n",
              "      <td>41</td>\n",
              "      <td>1</td>\n",
              "      <td>83807.86</td>\n",
              "      <td>1</td>\n",
              "      <td>0</td>\n",
              "      <td>1</td>\n",
              "      <td>112542.58</td>\n",
              "      <td>0</td>\n",
              "      <td>0</td>\n",
              "      <td>0</td>\n",
              "      <td>1</td>\n",
              "    </tr>\n",
              "    <tr>\n",
              "      <th>2</th>\n",
              "      <td>502</td>\n",
              "      <td>0</td>\n",
              "      <td>42</td>\n",
              "      <td>8</td>\n",
              "      <td>159660.80</td>\n",
              "      <td>3</td>\n",
              "      <td>1</td>\n",
              "      <td>0</td>\n",
              "      <td>113931.57</td>\n",
              "      <td>1</td>\n",
              "      <td>1</td>\n",
              "      <td>0</td>\n",
              "      <td>0</td>\n",
              "    </tr>\n",
              "    <tr>\n",
              "      <th>3</th>\n",
              "      <td>699</td>\n",
              "      <td>0</td>\n",
              "      <td>39</td>\n",
              "      <td>1</td>\n",
              "      <td>0.00</td>\n",
              "      <td>2</td>\n",
              "      <td>0</td>\n",
              "      <td>0</td>\n",
              "      <td>93826.63</td>\n",
              "      <td>0</td>\n",
              "      <td>1</td>\n",
              "      <td>0</td>\n",
              "      <td>0</td>\n",
              "    </tr>\n",
              "    <tr>\n",
              "      <th>4</th>\n",
              "      <td>850</td>\n",
              "      <td>0</td>\n",
              "      <td>43</td>\n",
              "      <td>2</td>\n",
              "      <td>125510.82</td>\n",
              "      <td>1</td>\n",
              "      <td>1</td>\n",
              "      <td>1</td>\n",
              "      <td>79084.10</td>\n",
              "      <td>0</td>\n",
              "      <td>0</td>\n",
              "      <td>0</td>\n",
              "      <td>1</td>\n",
              "    </tr>\n",
              "  </tbody>\n",
              "</table>\n",
              "</div>"
            ],
            "text/plain": [
              "   CreditScore  Gender  ...  Geography_Germany  Geography_Spain\n",
              "0          619       0  ...                  0                0\n",
              "1          608       0  ...                  0                1\n",
              "2          502       0  ...                  0                0\n",
              "3          699       0  ...                  0                0\n",
              "4          850       0  ...                  0                1\n",
              "\n",
              "[5 rows x 13 columns]"
            ]
          },
          "metadata": {
            "tags": []
          },
          "execution_count": 59
        }
      ]
    },
    {
      "cell_type": "code",
      "metadata": {
        "colab": {
          "base_uri": "https://localhost:8080/",
          "height": 195
        },
        "id": "OvXNj1DwU4pE",
        "outputId": "eee6864a-91d2-49cd-d953-38f4e3b2dfea"
      },
      "source": [
        "df1.drop(['Geography_Spain'], axis='columns', inplace=True) # drop unnecessary column after encoding\r\n",
        "df1.head()"
      ],
      "execution_count": null,
      "outputs": [
        {
          "output_type": "execute_result",
          "data": {
            "text/html": [
              "<div>\n",
              "<style scoped>\n",
              "    .dataframe tbody tr th:only-of-type {\n",
              "        vertical-align: middle;\n",
              "    }\n",
              "\n",
              "    .dataframe tbody tr th {\n",
              "        vertical-align: top;\n",
              "    }\n",
              "\n",
              "    .dataframe thead th {\n",
              "        text-align: right;\n",
              "    }\n",
              "</style>\n",
              "<table border=\"1\" class=\"dataframe\">\n",
              "  <thead>\n",
              "    <tr style=\"text-align: right;\">\n",
              "      <th></th>\n",
              "      <th>CreditScore</th>\n",
              "      <th>Gender</th>\n",
              "      <th>Age</th>\n",
              "      <th>Tenure</th>\n",
              "      <th>Balance</th>\n",
              "      <th>NumOfProducts</th>\n",
              "      <th>HasCrCard</th>\n",
              "      <th>IsActiveMember</th>\n",
              "      <th>EstimatedSalary</th>\n",
              "      <th>Exited</th>\n",
              "      <th>Geography_France</th>\n",
              "      <th>Geography_Germany</th>\n",
              "    </tr>\n",
              "  </thead>\n",
              "  <tbody>\n",
              "    <tr>\n",
              "      <th>0</th>\n",
              "      <td>619</td>\n",
              "      <td>0</td>\n",
              "      <td>42</td>\n",
              "      <td>2</td>\n",
              "      <td>0.00</td>\n",
              "      <td>1</td>\n",
              "      <td>1</td>\n",
              "      <td>1</td>\n",
              "      <td>101348.88</td>\n",
              "      <td>1</td>\n",
              "      <td>1</td>\n",
              "      <td>0</td>\n",
              "    </tr>\n",
              "    <tr>\n",
              "      <th>1</th>\n",
              "      <td>608</td>\n",
              "      <td>0</td>\n",
              "      <td>41</td>\n",
              "      <td>1</td>\n",
              "      <td>83807.86</td>\n",
              "      <td>1</td>\n",
              "      <td>0</td>\n",
              "      <td>1</td>\n",
              "      <td>112542.58</td>\n",
              "      <td>0</td>\n",
              "      <td>0</td>\n",
              "      <td>0</td>\n",
              "    </tr>\n",
              "    <tr>\n",
              "      <th>2</th>\n",
              "      <td>502</td>\n",
              "      <td>0</td>\n",
              "      <td>42</td>\n",
              "      <td>8</td>\n",
              "      <td>159660.80</td>\n",
              "      <td>3</td>\n",
              "      <td>1</td>\n",
              "      <td>0</td>\n",
              "      <td>113931.57</td>\n",
              "      <td>1</td>\n",
              "      <td>1</td>\n",
              "      <td>0</td>\n",
              "    </tr>\n",
              "    <tr>\n",
              "      <th>3</th>\n",
              "      <td>699</td>\n",
              "      <td>0</td>\n",
              "      <td>39</td>\n",
              "      <td>1</td>\n",
              "      <td>0.00</td>\n",
              "      <td>2</td>\n",
              "      <td>0</td>\n",
              "      <td>0</td>\n",
              "      <td>93826.63</td>\n",
              "      <td>0</td>\n",
              "      <td>1</td>\n",
              "      <td>0</td>\n",
              "    </tr>\n",
              "    <tr>\n",
              "      <th>4</th>\n",
              "      <td>850</td>\n",
              "      <td>0</td>\n",
              "      <td>43</td>\n",
              "      <td>2</td>\n",
              "      <td>125510.82</td>\n",
              "      <td>1</td>\n",
              "      <td>1</td>\n",
              "      <td>1</td>\n",
              "      <td>79084.10</td>\n",
              "      <td>0</td>\n",
              "      <td>0</td>\n",
              "      <td>0</td>\n",
              "    </tr>\n",
              "  </tbody>\n",
              "</table>\n",
              "</div>"
            ],
            "text/plain": [
              "   CreditScore  Gender  Age  ...  Exited  Geography_France  Geography_Germany\n",
              "0          619       0   42  ...       1                 1                  0\n",
              "1          608       0   41  ...       0                 0                  0\n",
              "2          502       0   42  ...       1                 1                  0\n",
              "3          699       0   39  ...       0                 1                  0\n",
              "4          850       0   43  ...       0                 0                  0\n",
              "\n",
              "[5 rows x 12 columns]"
            ]
          },
          "metadata": {
            "tags": []
          },
          "execution_count": 60
        }
      ]
    },
    {
      "cell_type": "code",
      "metadata": {
        "id": "cLzhiSBtVeoN"
      },
      "source": [
        "# Data Scalling witk sklearn\r\n",
        "col_to_scale= ['CreditScore','Age','Tenure','Balance','EstimatedSalary']\r\n",
        "from sklearn.preprocessing import MinMaxScaler\r\n",
        "scaler= MinMaxScaler()\r\n",
        "df1[col_to_scale]= scaler.fit_transform(df1[col_to_scale])"
      ],
      "execution_count": null,
      "outputs": []
    },
    {
      "cell_type": "code",
      "metadata": {
        "colab": {
          "base_uri": "https://localhost:8080/",
          "height": 195
        },
        "id": "n7CNZ4dJWsl5",
        "outputId": "4e69da62-dc09-46eb-822c-8fea233dbb7f"
      },
      "source": [
        "df1.head()"
      ],
      "execution_count": null,
      "outputs": [
        {
          "output_type": "execute_result",
          "data": {
            "text/html": [
              "<div>\n",
              "<style scoped>\n",
              "    .dataframe tbody tr th:only-of-type {\n",
              "        vertical-align: middle;\n",
              "    }\n",
              "\n",
              "    .dataframe tbody tr th {\n",
              "        vertical-align: top;\n",
              "    }\n",
              "\n",
              "    .dataframe thead th {\n",
              "        text-align: right;\n",
              "    }\n",
              "</style>\n",
              "<table border=\"1\" class=\"dataframe\">\n",
              "  <thead>\n",
              "    <tr style=\"text-align: right;\">\n",
              "      <th></th>\n",
              "      <th>CreditScore</th>\n",
              "      <th>Gender</th>\n",
              "      <th>Age</th>\n",
              "      <th>Tenure</th>\n",
              "      <th>Balance</th>\n",
              "      <th>NumOfProducts</th>\n",
              "      <th>HasCrCard</th>\n",
              "      <th>IsActiveMember</th>\n",
              "      <th>EstimatedSalary</th>\n",
              "      <th>Exited</th>\n",
              "      <th>Geography_France</th>\n",
              "      <th>Geography_Germany</th>\n",
              "    </tr>\n",
              "  </thead>\n",
              "  <tbody>\n",
              "    <tr>\n",
              "      <th>0</th>\n",
              "      <td>0.538</td>\n",
              "      <td>0</td>\n",
              "      <td>0.324324</td>\n",
              "      <td>0.2</td>\n",
              "      <td>0.000000</td>\n",
              "      <td>1</td>\n",
              "      <td>1</td>\n",
              "      <td>1</td>\n",
              "      <td>0.506735</td>\n",
              "      <td>1</td>\n",
              "      <td>1</td>\n",
              "      <td>0</td>\n",
              "    </tr>\n",
              "    <tr>\n",
              "      <th>1</th>\n",
              "      <td>0.516</td>\n",
              "      <td>0</td>\n",
              "      <td>0.310811</td>\n",
              "      <td>0.1</td>\n",
              "      <td>0.334031</td>\n",
              "      <td>1</td>\n",
              "      <td>0</td>\n",
              "      <td>1</td>\n",
              "      <td>0.562709</td>\n",
              "      <td>0</td>\n",
              "      <td>0</td>\n",
              "      <td>0</td>\n",
              "    </tr>\n",
              "    <tr>\n",
              "      <th>2</th>\n",
              "      <td>0.304</td>\n",
              "      <td>0</td>\n",
              "      <td>0.324324</td>\n",
              "      <td>0.8</td>\n",
              "      <td>0.636357</td>\n",
              "      <td>3</td>\n",
              "      <td>1</td>\n",
              "      <td>0</td>\n",
              "      <td>0.569654</td>\n",
              "      <td>1</td>\n",
              "      <td>1</td>\n",
              "      <td>0</td>\n",
              "    </tr>\n",
              "    <tr>\n",
              "      <th>3</th>\n",
              "      <td>0.698</td>\n",
              "      <td>0</td>\n",
              "      <td>0.283784</td>\n",
              "      <td>0.1</td>\n",
              "      <td>0.000000</td>\n",
              "      <td>2</td>\n",
              "      <td>0</td>\n",
              "      <td>0</td>\n",
              "      <td>0.469120</td>\n",
              "      <td>0</td>\n",
              "      <td>1</td>\n",
              "      <td>0</td>\n",
              "    </tr>\n",
              "    <tr>\n",
              "      <th>4</th>\n",
              "      <td>1.000</td>\n",
              "      <td>0</td>\n",
              "      <td>0.337838</td>\n",
              "      <td>0.2</td>\n",
              "      <td>0.500246</td>\n",
              "      <td>1</td>\n",
              "      <td>1</td>\n",
              "      <td>1</td>\n",
              "      <td>0.395400</td>\n",
              "      <td>0</td>\n",
              "      <td>0</td>\n",
              "      <td>0</td>\n",
              "    </tr>\n",
              "  </tbody>\n",
              "</table>\n",
              "</div>"
            ],
            "text/plain": [
              "   CreditScore  Gender       Age  ...  Exited  Geography_France  Geography_Germany\n",
              "0        0.538       0  0.324324  ...       1                 1                  0\n",
              "1        0.516       0  0.310811  ...       0                 0                  0\n",
              "2        0.304       0  0.324324  ...       1                 1                  0\n",
              "3        0.698       0  0.283784  ...       0                 1                  0\n",
              "4        1.000       0  0.337838  ...       0                 0                  0\n",
              "\n",
              "[5 rows x 12 columns]"
            ]
          },
          "metadata": {
            "tags": []
          },
          "execution_count": 62
        }
      ]
    },
    {
      "cell_type": "markdown",
      "metadata": {
        "id": "Y5xBK4rVbjl2"
      },
      "source": [
        "## Train Test Split"
      ]
    },
    {
      "cell_type": "code",
      "metadata": {
        "id": "ESwoPc8UW01J"
      },
      "source": [
        "X= df1.drop(['Exited'], axis='columns')\r\n",
        "y= df1['Exited']"
      ],
      "execution_count": null,
      "outputs": []
    },
    {
      "cell_type": "code",
      "metadata": {
        "colab": {
          "base_uri": "https://localhost:8080/",
          "height": 195
        },
        "id": "6UX8qk_hXjms",
        "outputId": "c30b7f33-08a3-495b-a560-28c6340a8cdb"
      },
      "source": [
        "X.head()"
      ],
      "execution_count": null,
      "outputs": [
        {
          "output_type": "execute_result",
          "data": {
            "text/html": [
              "<div>\n",
              "<style scoped>\n",
              "    .dataframe tbody tr th:only-of-type {\n",
              "        vertical-align: middle;\n",
              "    }\n",
              "\n",
              "    .dataframe tbody tr th {\n",
              "        vertical-align: top;\n",
              "    }\n",
              "\n",
              "    .dataframe thead th {\n",
              "        text-align: right;\n",
              "    }\n",
              "</style>\n",
              "<table border=\"1\" class=\"dataframe\">\n",
              "  <thead>\n",
              "    <tr style=\"text-align: right;\">\n",
              "      <th></th>\n",
              "      <th>CreditScore</th>\n",
              "      <th>Gender</th>\n",
              "      <th>Age</th>\n",
              "      <th>Tenure</th>\n",
              "      <th>Balance</th>\n",
              "      <th>NumOfProducts</th>\n",
              "      <th>HasCrCard</th>\n",
              "      <th>IsActiveMember</th>\n",
              "      <th>EstimatedSalary</th>\n",
              "      <th>Geography_France</th>\n",
              "      <th>Geography_Germany</th>\n",
              "    </tr>\n",
              "  </thead>\n",
              "  <tbody>\n",
              "    <tr>\n",
              "      <th>0</th>\n",
              "      <td>0.538</td>\n",
              "      <td>0</td>\n",
              "      <td>0.324324</td>\n",
              "      <td>0.2</td>\n",
              "      <td>0.000000</td>\n",
              "      <td>1</td>\n",
              "      <td>1</td>\n",
              "      <td>1</td>\n",
              "      <td>0.506735</td>\n",
              "      <td>1</td>\n",
              "      <td>0</td>\n",
              "    </tr>\n",
              "    <tr>\n",
              "      <th>1</th>\n",
              "      <td>0.516</td>\n",
              "      <td>0</td>\n",
              "      <td>0.310811</td>\n",
              "      <td>0.1</td>\n",
              "      <td>0.334031</td>\n",
              "      <td>1</td>\n",
              "      <td>0</td>\n",
              "      <td>1</td>\n",
              "      <td>0.562709</td>\n",
              "      <td>0</td>\n",
              "      <td>0</td>\n",
              "    </tr>\n",
              "    <tr>\n",
              "      <th>2</th>\n",
              "      <td>0.304</td>\n",
              "      <td>0</td>\n",
              "      <td>0.324324</td>\n",
              "      <td>0.8</td>\n",
              "      <td>0.636357</td>\n",
              "      <td>3</td>\n",
              "      <td>1</td>\n",
              "      <td>0</td>\n",
              "      <td>0.569654</td>\n",
              "      <td>1</td>\n",
              "      <td>0</td>\n",
              "    </tr>\n",
              "    <tr>\n",
              "      <th>3</th>\n",
              "      <td>0.698</td>\n",
              "      <td>0</td>\n",
              "      <td>0.283784</td>\n",
              "      <td>0.1</td>\n",
              "      <td>0.000000</td>\n",
              "      <td>2</td>\n",
              "      <td>0</td>\n",
              "      <td>0</td>\n",
              "      <td>0.469120</td>\n",
              "      <td>1</td>\n",
              "      <td>0</td>\n",
              "    </tr>\n",
              "    <tr>\n",
              "      <th>4</th>\n",
              "      <td>1.000</td>\n",
              "      <td>0</td>\n",
              "      <td>0.337838</td>\n",
              "      <td>0.2</td>\n",
              "      <td>0.500246</td>\n",
              "      <td>1</td>\n",
              "      <td>1</td>\n",
              "      <td>1</td>\n",
              "      <td>0.395400</td>\n",
              "      <td>0</td>\n",
              "      <td>0</td>\n",
              "    </tr>\n",
              "  </tbody>\n",
              "</table>\n",
              "</div>"
            ],
            "text/plain": [
              "   CreditScore  Gender  ...  Geography_France  Geography_Germany\n",
              "0        0.538       0  ...                 1                  0\n",
              "1        0.516       0  ...                 0                  0\n",
              "2        0.304       0  ...                 1                  0\n",
              "3        0.698       0  ...                 1                  0\n",
              "4        1.000       0  ...                 0                  0\n",
              "\n",
              "[5 rows x 11 columns]"
            ]
          },
          "metadata": {
            "tags": []
          },
          "execution_count": 64
        }
      ]
    },
    {
      "cell_type": "code",
      "metadata": {
        "id": "47qX_ja0XzVq"
      },
      "source": [
        "from sklearn.model_selection import train_test_split"
      ],
      "execution_count": null,
      "outputs": []
    },
    {
      "cell_type": "code",
      "metadata": {
        "id": "h3uuQsb6YziP"
      },
      "source": [
        "X_train, x_test,y_train, y_test = train_test_split(X, y , test_size= 0.2, random_state= 32)"
      ],
      "execution_count": null,
      "outputs": []
    },
    {
      "cell_type": "code",
      "metadata": {
        "colab": {
          "base_uri": "https://localhost:8080/"
        },
        "id": "esLJY1GqZIHO",
        "outputId": "ff8ceabb-f034-4add-8ead-b82cbd3da4d3"
      },
      "source": [
        "X_train.shape"
      ],
      "execution_count": null,
      "outputs": [
        {
          "output_type": "execute_result",
          "data": {
            "text/plain": [
              "(8000, 11)"
            ]
          },
          "metadata": {
            "tags": []
          },
          "execution_count": 67
        }
      ]
    },
    {
      "cell_type": "markdown",
      "metadata": {
        "id": "8j37swP6bxSm"
      },
      "source": [
        "## ANN Model"
      ]
    },
    {
      "cell_type": "code",
      "metadata": {
        "colab": {
          "base_uri": "https://localhost:8080/"
        },
        "id": "HKCQMe1CZLo2",
        "outputId": "3e453813-f7ac-4afd-828e-dbed27354962"
      },
      "source": [
        "model = keras.Sequential([\r\n",
        "                        keras.layers.Dense(100, input_shape=(11,), activation='relu'),\r\n",
        "                        keras.layers.Dense(75, activation='relu'),\r\n",
        "                        keras.layers.Dense(1, activation='sigmoid')\r\n",
        "\r\n",
        "])\r\n",
        "\r\n",
        "model.compile(\r\n",
        "    optimizer='adam',\r\n",
        "    loss='binary_crossentropy',\r\n",
        "    metrics=['accuracy']\r\n",
        ")\r\n",
        "\r\n",
        "model.fit(X_train,y_train, epochs=150)"
      ],
      "execution_count": null,
      "outputs": [
        {
          "output_type": "stream",
          "text": [
            "Epoch 1/150\n",
            "250/250 [==============================] - 1s 1ms/step - loss: 0.4822 - accuracy: 0.8037\n",
            "Epoch 2/150\n",
            "250/250 [==============================] - 0s 1ms/step - loss: 0.4159 - accuracy: 0.8233\n",
            "Epoch 3/150\n",
            "250/250 [==============================] - 0s 1ms/step - loss: 0.3962 - accuracy: 0.8325\n",
            "Epoch 4/150\n",
            "250/250 [==============================] - 0s 1ms/step - loss: 0.3705 - accuracy: 0.8461\n",
            "Epoch 5/150\n",
            "250/250 [==============================] - 0s 1ms/step - loss: 0.3573 - accuracy: 0.8515\n",
            "Epoch 6/150\n",
            "250/250 [==============================] - 0s 1ms/step - loss: 0.3515 - accuracy: 0.8576\n",
            "Epoch 7/150\n",
            "250/250 [==============================] - 0s 1ms/step - loss: 0.3415 - accuracy: 0.8592\n",
            "Epoch 8/150\n",
            "250/250 [==============================] - 0s 1ms/step - loss: 0.3545 - accuracy: 0.8526\n",
            "Epoch 9/150\n",
            "250/250 [==============================] - 0s 1ms/step - loss: 0.3405 - accuracy: 0.8634\n",
            "Epoch 10/150\n",
            "250/250 [==============================] - 0s 1ms/step - loss: 0.3382 - accuracy: 0.8625\n",
            "Epoch 11/150\n",
            "250/250 [==============================] - 0s 1ms/step - loss: 0.3323 - accuracy: 0.8660\n",
            "Epoch 12/150\n",
            "250/250 [==============================] - 0s 1ms/step - loss: 0.3285 - accuracy: 0.8667\n",
            "Epoch 13/150\n",
            "250/250 [==============================] - 0s 1ms/step - loss: 0.3358 - accuracy: 0.8612\n",
            "Epoch 14/150\n",
            "250/250 [==============================] - 0s 1ms/step - loss: 0.3238 - accuracy: 0.8684\n",
            "Epoch 15/150\n",
            "250/250 [==============================] - 0s 1ms/step - loss: 0.3263 - accuracy: 0.8667\n",
            "Epoch 16/150\n",
            "250/250 [==============================] - 0s 1ms/step - loss: 0.3163 - accuracy: 0.8733\n",
            "Epoch 17/150\n",
            "250/250 [==============================] - 0s 1ms/step - loss: 0.3220 - accuracy: 0.8690\n",
            "Epoch 18/150\n",
            "250/250 [==============================] - 0s 1ms/step - loss: 0.3137 - accuracy: 0.8718\n",
            "Epoch 19/150\n",
            "250/250 [==============================] - 0s 1ms/step - loss: 0.3187 - accuracy: 0.8699\n",
            "Epoch 20/150\n",
            "250/250 [==============================] - 0s 1ms/step - loss: 0.3201 - accuracy: 0.8710\n",
            "Epoch 21/150\n",
            "250/250 [==============================] - 0s 1ms/step - loss: 0.3258 - accuracy: 0.8669\n",
            "Epoch 22/150\n",
            "250/250 [==============================] - 0s 1ms/step - loss: 0.3190 - accuracy: 0.8692\n",
            "Epoch 23/150\n",
            "250/250 [==============================] - 0s 1ms/step - loss: 0.3206 - accuracy: 0.8704\n",
            "Epoch 24/150\n",
            "250/250 [==============================] - 0s 1ms/step - loss: 0.3122 - accuracy: 0.8768\n",
            "Epoch 25/150\n",
            "250/250 [==============================] - 0s 1ms/step - loss: 0.3206 - accuracy: 0.8720\n",
            "Epoch 26/150\n",
            "250/250 [==============================] - 0s 1ms/step - loss: 0.3220 - accuracy: 0.8696\n",
            "Epoch 27/150\n",
            "250/250 [==============================] - 0s 1ms/step - loss: 0.3125 - accuracy: 0.8714\n",
            "Epoch 28/150\n",
            "250/250 [==============================] - 0s 1ms/step - loss: 0.3034 - accuracy: 0.8732\n",
            "Epoch 29/150\n",
            "250/250 [==============================] - 0s 1ms/step - loss: 0.3117 - accuracy: 0.8709\n",
            "Epoch 30/150\n",
            "250/250 [==============================] - 0s 1ms/step - loss: 0.3184 - accuracy: 0.8719\n",
            "Epoch 31/150\n",
            "250/250 [==============================] - 0s 1ms/step - loss: 0.3140 - accuracy: 0.8722\n",
            "Epoch 32/150\n",
            "250/250 [==============================] - 0s 1ms/step - loss: 0.3164 - accuracy: 0.8664\n",
            "Epoch 33/150\n",
            "250/250 [==============================] - 0s 1ms/step - loss: 0.3025 - accuracy: 0.8738\n",
            "Epoch 34/150\n",
            "250/250 [==============================] - 0s 1ms/step - loss: 0.3018 - accuracy: 0.8821\n",
            "Epoch 35/150\n",
            "250/250 [==============================] - 0s 1ms/step - loss: 0.2977 - accuracy: 0.8790\n",
            "Epoch 36/150\n",
            "250/250 [==============================] - 0s 1ms/step - loss: 0.3107 - accuracy: 0.8678\n",
            "Epoch 37/150\n",
            "250/250 [==============================] - 0s 2ms/step - loss: 0.3018 - accuracy: 0.8785\n",
            "Epoch 38/150\n",
            "250/250 [==============================] - 0s 1ms/step - loss: 0.3100 - accuracy: 0.8724\n",
            "Epoch 39/150\n",
            "250/250 [==============================] - 0s 1ms/step - loss: 0.3080 - accuracy: 0.8722\n",
            "Epoch 40/150\n",
            "250/250 [==============================] - 0s 1ms/step - loss: 0.2984 - accuracy: 0.8743\n",
            "Epoch 41/150\n",
            "250/250 [==============================] - 0s 1ms/step - loss: 0.3051 - accuracy: 0.8752\n",
            "Epoch 42/150\n",
            "250/250 [==============================] - 0s 1ms/step - loss: 0.3071 - accuracy: 0.8728\n",
            "Epoch 43/150\n",
            "250/250 [==============================] - 0s 2ms/step - loss: 0.3106 - accuracy: 0.8727\n",
            "Epoch 44/150\n",
            "250/250 [==============================] - 0s 2ms/step - loss: 0.2988 - accuracy: 0.8800\n",
            "Epoch 45/150\n",
            "250/250 [==============================] - 0s 2ms/step - loss: 0.2935 - accuracy: 0.8825\n",
            "Epoch 46/150\n",
            "250/250 [==============================] - 0s 1ms/step - loss: 0.2957 - accuracy: 0.8773\n",
            "Epoch 47/150\n",
            "250/250 [==============================] - 0s 1ms/step - loss: 0.2997 - accuracy: 0.8801\n",
            "Epoch 48/150\n",
            "250/250 [==============================] - 0s 1ms/step - loss: 0.2981 - accuracy: 0.8762\n",
            "Epoch 49/150\n",
            "250/250 [==============================] - 0s 2ms/step - loss: 0.2968 - accuracy: 0.8816\n",
            "Epoch 50/150\n",
            "250/250 [==============================] - 0s 1ms/step - loss: 0.2905 - accuracy: 0.8807\n",
            "Epoch 51/150\n",
            "250/250 [==============================] - 0s 1ms/step - loss: 0.3008 - accuracy: 0.8772\n",
            "Epoch 52/150\n",
            "250/250 [==============================] - 0s 1ms/step - loss: 0.2868 - accuracy: 0.8797\n",
            "Epoch 53/150\n",
            "250/250 [==============================] - 0s 1ms/step - loss: 0.2958 - accuracy: 0.8786\n",
            "Epoch 54/150\n",
            "250/250 [==============================] - 0s 1ms/step - loss: 0.2985 - accuracy: 0.8745\n",
            "Epoch 55/150\n",
            "250/250 [==============================] - 0s 1ms/step - loss: 0.3027 - accuracy: 0.8788\n",
            "Epoch 56/150\n",
            "250/250 [==============================] - 0s 1ms/step - loss: 0.2861 - accuracy: 0.8840\n",
            "Epoch 57/150\n",
            "250/250 [==============================] - 0s 1ms/step - loss: 0.2962 - accuracy: 0.8809\n",
            "Epoch 58/150\n",
            "250/250 [==============================] - 0s 1ms/step - loss: 0.2883 - accuracy: 0.8864\n",
            "Epoch 59/150\n",
            "250/250 [==============================] - 0s 1ms/step - loss: 0.2821 - accuracy: 0.8851\n",
            "Epoch 60/150\n",
            "250/250 [==============================] - 0s 1ms/step - loss: 0.2890 - accuracy: 0.8796\n",
            "Epoch 61/150\n",
            "250/250 [==============================] - 0s 1ms/step - loss: 0.2944 - accuracy: 0.8766\n",
            "Epoch 62/150\n",
            "250/250 [==============================] - 0s 1ms/step - loss: 0.2905 - accuracy: 0.8797\n",
            "Epoch 63/150\n",
            "250/250 [==============================] - 0s 1ms/step - loss: 0.2832 - accuracy: 0.8834\n",
            "Epoch 64/150\n",
            "250/250 [==============================] - 0s 1ms/step - loss: 0.2836 - accuracy: 0.8817\n",
            "Epoch 65/150\n",
            "250/250 [==============================] - 0s 1ms/step - loss: 0.2909 - accuracy: 0.8800\n",
            "Epoch 66/150\n",
            "250/250 [==============================] - 0s 1ms/step - loss: 0.2816 - accuracy: 0.8779\n",
            "Epoch 67/150\n",
            "250/250 [==============================] - 0s 1ms/step - loss: 0.2815 - accuracy: 0.8843\n",
            "Epoch 68/150\n",
            "250/250 [==============================] - 0s 1ms/step - loss: 0.2780 - accuracy: 0.8853\n",
            "Epoch 69/150\n",
            "250/250 [==============================] - 0s 1ms/step - loss: 0.2864 - accuracy: 0.8763\n",
            "Epoch 70/150\n",
            "250/250 [==============================] - 0s 1ms/step - loss: 0.2772 - accuracy: 0.8842\n",
            "Epoch 71/150\n",
            "250/250 [==============================] - 0s 1ms/step - loss: 0.2800 - accuracy: 0.8884\n",
            "Epoch 72/150\n",
            "250/250 [==============================] - 0s 1ms/step - loss: 0.2951 - accuracy: 0.8759\n",
            "Epoch 73/150\n",
            "250/250 [==============================] - 0s 1ms/step - loss: 0.2804 - accuracy: 0.8840\n",
            "Epoch 74/150\n",
            "250/250 [==============================] - 0s 1ms/step - loss: 0.2835 - accuracy: 0.8786\n",
            "Epoch 75/150\n",
            "250/250 [==============================] - 0s 1ms/step - loss: 0.2796 - accuracy: 0.8873\n",
            "Epoch 76/150\n",
            "250/250 [==============================] - 0s 2ms/step - loss: 0.2795 - accuracy: 0.8847\n",
            "Epoch 77/150\n",
            "250/250 [==============================] - 0s 2ms/step - loss: 0.2833 - accuracy: 0.8854\n",
            "Epoch 78/150\n",
            "250/250 [==============================] - 0s 2ms/step - loss: 0.2807 - accuracy: 0.8887\n",
            "Epoch 79/150\n",
            "250/250 [==============================] - 0s 2ms/step - loss: 0.2765 - accuracy: 0.8849\n",
            "Epoch 80/150\n",
            "250/250 [==============================] - 0s 1ms/step - loss: 0.2751 - accuracy: 0.8878\n",
            "Epoch 81/150\n",
            "250/250 [==============================] - 0s 2ms/step - loss: 0.2732 - accuracy: 0.8849\n",
            "Epoch 82/150\n",
            "250/250 [==============================] - 0s 2ms/step - loss: 0.2683 - accuracy: 0.8902\n",
            "Epoch 83/150\n",
            "250/250 [==============================] - 0s 2ms/step - loss: 0.2740 - accuracy: 0.8883\n",
            "Epoch 84/150\n",
            "250/250 [==============================] - 0s 2ms/step - loss: 0.2631 - accuracy: 0.8935\n",
            "Epoch 85/150\n",
            "250/250 [==============================] - 0s 2ms/step - loss: 0.2732 - accuracy: 0.8885\n",
            "Epoch 86/150\n",
            "250/250 [==============================] - 0s 2ms/step - loss: 0.2793 - accuracy: 0.8847\n",
            "Epoch 87/150\n",
            "250/250 [==============================] - 0s 2ms/step - loss: 0.2857 - accuracy: 0.8850\n",
            "Epoch 88/150\n",
            "250/250 [==============================] - 0s 2ms/step - loss: 0.2718 - accuracy: 0.8914\n",
            "Epoch 89/150\n",
            "250/250 [==============================] - 0s 2ms/step - loss: 0.2752 - accuracy: 0.8897\n",
            "Epoch 90/150\n",
            "250/250 [==============================] - 0s 1ms/step - loss: 0.2574 - accuracy: 0.9003\n",
            "Epoch 91/150\n",
            "250/250 [==============================] - 0s 1ms/step - loss: 0.2738 - accuracy: 0.8924\n",
            "Epoch 92/150\n",
            "250/250 [==============================] - 0s 1ms/step - loss: 0.2578 - accuracy: 0.8934\n",
            "Epoch 93/150\n",
            "250/250 [==============================] - 0s 2ms/step - loss: 0.2688 - accuracy: 0.8927\n",
            "Epoch 94/150\n",
            "250/250 [==============================] - 0s 1ms/step - loss: 0.2558 - accuracy: 0.8977\n",
            "Epoch 95/150\n",
            "250/250 [==============================] - 0s 1ms/step - loss: 0.2727 - accuracy: 0.8893\n",
            "Epoch 96/150\n",
            "250/250 [==============================] - 0s 2ms/step - loss: 0.2656 - accuracy: 0.8899\n",
            "Epoch 97/150\n",
            "250/250 [==============================] - 0s 1ms/step - loss: 0.2693 - accuracy: 0.8881\n",
            "Epoch 98/150\n",
            "250/250 [==============================] - 0s 1ms/step - loss: 0.2587 - accuracy: 0.8916\n",
            "Epoch 99/150\n",
            "250/250 [==============================] - 0s 1ms/step - loss: 0.2613 - accuracy: 0.8954\n",
            "Epoch 100/150\n",
            "250/250 [==============================] - 0s 1ms/step - loss: 0.2609 - accuracy: 0.8922\n",
            "Epoch 101/150\n",
            "250/250 [==============================] - 0s 1ms/step - loss: 0.2546 - accuracy: 0.8959\n",
            "Epoch 102/150\n",
            "250/250 [==============================] - 0s 2ms/step - loss: 0.2664 - accuracy: 0.8853\n",
            "Epoch 103/150\n",
            "250/250 [==============================] - 0s 1ms/step - loss: 0.2651 - accuracy: 0.8901\n",
            "Epoch 104/150\n",
            "250/250 [==============================] - 0s 1ms/step - loss: 0.2597 - accuracy: 0.8923\n",
            "Epoch 105/150\n",
            "250/250 [==============================] - 0s 1ms/step - loss: 0.2606 - accuracy: 0.8932\n",
            "Epoch 106/150\n",
            "250/250 [==============================] - 0s 1ms/step - loss: 0.2526 - accuracy: 0.8924\n",
            "Epoch 107/150\n",
            "250/250 [==============================] - 0s 1ms/step - loss: 0.2472 - accuracy: 0.8964\n",
            "Epoch 108/150\n",
            "250/250 [==============================] - 0s 1ms/step - loss: 0.2602 - accuracy: 0.8955\n",
            "Epoch 109/150\n",
            "250/250 [==============================] - 0s 1ms/step - loss: 0.2526 - accuracy: 0.8932\n",
            "Epoch 110/150\n",
            "250/250 [==============================] - 0s 1ms/step - loss: 0.2578 - accuracy: 0.8904\n",
            "Epoch 111/150\n",
            "250/250 [==============================] - 0s 1ms/step - loss: 0.2514 - accuracy: 0.8969\n",
            "Epoch 112/150\n",
            "250/250 [==============================] - 0s 1ms/step - loss: 0.2554 - accuracy: 0.8906\n",
            "Epoch 113/150\n",
            "250/250 [==============================] - 0s 1ms/step - loss: 0.2512 - accuracy: 0.8976\n",
            "Epoch 114/150\n",
            "250/250 [==============================] - 0s 1ms/step - loss: 0.2560 - accuracy: 0.8944\n",
            "Epoch 115/150\n",
            "250/250 [==============================] - 0s 1ms/step - loss: 0.2593 - accuracy: 0.8915\n",
            "Epoch 116/150\n",
            "250/250 [==============================] - 0s 2ms/step - loss: 0.2451 - accuracy: 0.8975\n",
            "Epoch 117/150\n",
            "250/250 [==============================] - 0s 1ms/step - loss: 0.2453 - accuracy: 0.8966\n",
            "Epoch 118/150\n",
            "250/250 [==============================] - 0s 1ms/step - loss: 0.2495 - accuracy: 0.8970\n",
            "Epoch 119/150\n",
            "250/250 [==============================] - 0s 1ms/step - loss: 0.2503 - accuracy: 0.8993\n",
            "Epoch 120/150\n",
            "250/250 [==============================] - 0s 1ms/step - loss: 0.2403 - accuracy: 0.9004\n",
            "Epoch 121/150\n",
            "250/250 [==============================] - 0s 1ms/step - loss: 0.2443 - accuracy: 0.8989\n",
            "Epoch 122/150\n",
            "250/250 [==============================] - 0s 1ms/step - loss: 0.2451 - accuracy: 0.9006\n",
            "Epoch 123/150\n",
            "250/250 [==============================] - 0s 1ms/step - loss: 0.2563 - accuracy: 0.8886\n",
            "Epoch 124/150\n",
            "250/250 [==============================] - 0s 1ms/step - loss: 0.2369 - accuracy: 0.8996\n",
            "Epoch 125/150\n",
            "250/250 [==============================] - 0s 1ms/step - loss: 0.2402 - accuracy: 0.9002\n",
            "Epoch 126/150\n",
            "250/250 [==============================] - 0s 1ms/step - loss: 0.2340 - accuracy: 0.9030\n",
            "Epoch 127/150\n",
            "250/250 [==============================] - 0s 2ms/step - loss: 0.2345 - accuracy: 0.9051\n",
            "Epoch 128/150\n",
            "250/250 [==============================] - 0s 1ms/step - loss: 0.2439 - accuracy: 0.9022\n",
            "Epoch 129/150\n",
            "250/250 [==============================] - 0s 1ms/step - loss: 0.2322 - accuracy: 0.9012\n",
            "Epoch 130/150\n",
            "250/250 [==============================] - 0s 1ms/step - loss: 0.2290 - accuracy: 0.9036\n",
            "Epoch 131/150\n",
            "250/250 [==============================] - 0s 1ms/step - loss: 0.2413 - accuracy: 0.8971\n",
            "Epoch 132/150\n",
            "250/250 [==============================] - 0s 1ms/step - loss: 0.2279 - accuracy: 0.9075\n",
            "Epoch 133/150\n",
            "250/250 [==============================] - 0s 1ms/step - loss: 0.2224 - accuracy: 0.9103\n",
            "Epoch 134/150\n",
            "250/250 [==============================] - 0s 1ms/step - loss: 0.2450 - accuracy: 0.9008\n",
            "Epoch 135/150\n",
            "250/250 [==============================] - 0s 1ms/step - loss: 0.2263 - accuracy: 0.9075\n",
            "Epoch 136/150\n",
            "250/250 [==============================] - 0s 1ms/step - loss: 0.2388 - accuracy: 0.8993\n",
            "Epoch 137/150\n",
            "250/250 [==============================] - 0s 2ms/step - loss: 0.2440 - accuracy: 0.8977\n",
            "Epoch 138/150\n",
            "250/250 [==============================] - 0s 2ms/step - loss: 0.2317 - accuracy: 0.9022\n",
            "Epoch 139/150\n",
            "250/250 [==============================] - 0s 1ms/step - loss: 0.2224 - accuracy: 0.9077\n",
            "Epoch 140/150\n",
            "250/250 [==============================] - 0s 1ms/step - loss: 0.2270 - accuracy: 0.9056\n",
            "Epoch 141/150\n",
            "250/250 [==============================] - 0s 1ms/step - loss: 0.2207 - accuracy: 0.9068\n",
            "Epoch 142/150\n",
            "250/250 [==============================] - 0s 1ms/step - loss: 0.2230 - accuracy: 0.9093\n",
            "Epoch 143/150\n",
            "250/250 [==============================] - 0s 1ms/step - loss: 0.2247 - accuracy: 0.9075\n",
            "Epoch 144/150\n",
            "250/250 [==============================] - 0s 1ms/step - loss: 0.2238 - accuracy: 0.9083\n",
            "Epoch 145/150\n",
            "250/250 [==============================] - 0s 1ms/step - loss: 0.2273 - accuracy: 0.9036\n",
            "Epoch 146/150\n",
            "250/250 [==============================] - 0s 1ms/step - loss: 0.2198 - accuracy: 0.9107\n",
            "Epoch 147/150\n",
            "250/250 [==============================] - 0s 2ms/step - loss: 0.2242 - accuracy: 0.9119\n",
            "Epoch 148/150\n",
            "250/250 [==============================] - 0s 1ms/step - loss: 0.2294 - accuracy: 0.9055\n",
            "Epoch 149/150\n",
            "250/250 [==============================] - 0s 1ms/step - loss: 0.2226 - accuracy: 0.9091\n",
            "Epoch 150/150\n",
            "250/250 [==============================] - 0s 1ms/step - loss: 0.2232 - accuracy: 0.9101\n"
          ],
          "name": "stdout"
        },
        {
          "output_type": "execute_result",
          "data": {
            "text/plain": [
              "<tensorflow.python.keras.callbacks.History at 0x7efc62e2f5f8>"
            ]
          },
          "metadata": {
            "tags": []
          },
          "execution_count": 68
        }
      ]
    },
    {
      "cell_type": "code",
      "metadata": {
        "colab": {
          "base_uri": "https://localhost:8080/"
        },
        "id": "rI_6q5grauK6",
        "outputId": "24df5606-62b1-4008-ec80-ecd83fb4dbd3"
      },
      "source": [
        "model.evaluate(x_test,y_test) # evaluate model"
      ],
      "execution_count": null,
      "outputs": [
        {
          "output_type": "stream",
          "text": [
            "63/63 [==============================] - 0s 964us/step - loss: 0.4655 - accuracy: 0.8305\n"
          ],
          "name": "stdout"
        },
        {
          "output_type": "execute_result",
          "data": {
            "text/plain": [
              "[0.4655376672744751, 0.8305000066757202]"
            ]
          },
          "metadata": {
            "tags": []
          },
          "execution_count": 69
        }
      ]
    },
    {
      "cell_type": "markdown",
      "metadata": {
        "id": "QNV4aptxc-eg"
      },
      "source": [
        "Model Accuracy : 84.05%"
      ]
    },
    {
      "cell_type": "code",
      "metadata": {
        "id": "uhMg0Mcif2wz"
      },
      "source": [
        "y_predicted= model.predict(x_test)"
      ],
      "execution_count": null,
      "outputs": []
    },
    {
      "cell_type": "code",
      "metadata": {
        "colab": {
          "base_uri": "https://localhost:8080/"
        },
        "id": "D4tkPkXuf96m",
        "outputId": "ad967a94-4101-4993-a72c-22b3242bc5c9"
      },
      "source": [
        "y_predicted[:10]"
      ],
      "execution_count": null,
      "outputs": [
        {
          "output_type": "execute_result",
          "data": {
            "text/plain": [
              "array([[7.2453320e-03],\n",
              "       [4.8613659e-01],\n",
              "       [5.6914777e-02],\n",
              "       [4.6168298e-02],\n",
              "       [3.7818849e-03],\n",
              "       [9.0086460e-04],\n",
              "       [1.8244773e-02],\n",
              "       [1.0000000e+00],\n",
              "       [1.5465170e-02],\n",
              "       [6.0165823e-03]], dtype=float32)"
            ]
          },
          "metadata": {
            "tags": []
          },
          "execution_count": 71
        }
      ]
    },
    {
      "cell_type": "code",
      "metadata": {
        "colab": {
          "base_uri": "https://localhost:8080/"
        },
        "id": "FCRTWMJqgPIx",
        "outputId": "357295c8-dcae-4a7b-c5c1-bc2bb7956d40"
      },
      "source": [
        "y_test[:10]"
      ],
      "execution_count": null,
      "outputs": [
        {
          "output_type": "execute_result",
          "data": {
            "text/plain": [
              "5097    0\n",
              "2580    1\n",
              "260     0\n",
              "6781    0\n",
              "5468    0\n",
              "3977    0\n",
              "2834    0\n",
              "4014    1\n",
              "6224    0\n",
              "8001    0\n",
              "Name: Exited, dtype: int64"
            ]
          },
          "metadata": {
            "tags": []
          },
          "execution_count": 72
        }
      ]
    },
    {
      "cell_type": "code",
      "metadata": {
        "id": "b8RwrEtegUI3"
      },
      "source": [
        "# converting predicted output to binary data with threshold\r\n",
        "y_pred=[]\r\n",
        "for i in y_predicted:\r\n",
        "  if i>= 0.5:\r\n",
        "    y_pred.append(1)\r\n",
        "  else:\r\n",
        "    y_pred.append(0)"
      ],
      "execution_count": null,
      "outputs": []
    },
    {
      "cell_type": "code",
      "metadata": {
        "colab": {
          "base_uri": "https://localhost:8080/"
        },
        "id": "uuyu4XLwgt8m",
        "outputId": "09bf719d-c33f-4f1c-f3f0-45079acb2105"
      },
      "source": [
        "y_pred[:10]"
      ],
      "execution_count": null,
      "outputs": [
        {
          "output_type": "execute_result",
          "data": {
            "text/plain": [
              "[0, 0, 0, 0, 0, 0, 0, 1, 0, 0]"
            ]
          },
          "metadata": {
            "tags": []
          },
          "execution_count": 74
        }
      ]
    },
    {
      "cell_type": "code",
      "metadata": {
        "colab": {
          "base_uri": "https://localhost:8080/"
        },
        "id": "TjgVD-3JgwTk",
        "outputId": "ae392e58-f910-479e-8664-20742ef209d0"
      },
      "source": [
        "from sklearn.metrics import classification_report\r\n",
        "print(classification_report(y_test,y_pred))"
      ],
      "execution_count": null,
      "outputs": [
        {
          "output_type": "stream",
          "text": [
            "              precision    recall  f1-score   support\n",
            "\n",
            "           0       0.87      0.92      0.90      1583\n",
            "           1       0.62      0.50      0.55       417\n",
            "\n",
            "    accuracy                           0.83      2000\n",
            "   macro avg       0.74      0.71      0.72      2000\n",
            "weighted avg       0.82      0.83      0.82      2000\n",
            "\n"
          ],
          "name": "stdout"
        }
      ]
    },
    {
      "cell_type": "markdown",
      "metadata": {
        "id": "4jDE_mpCdoFU"
      },
      "source": [
        "The confusion matrix for the model test prediction results is shown below"
      ]
    },
    {
      "cell_type": "code",
      "metadata": {
        "colab": {
          "base_uri": "https://localhost:8080/",
          "height": 427
        },
        "id": "ur-9Xnt2h5dS",
        "outputId": "4c665370-fcb2-45da-f6a6-0e3b06e4a2de"
      },
      "source": [
        "data= tf.math.confusion_matrix(labels=y_test, predictions=y_pred)\r\n",
        "plt.figure(figsize=(8,6))\r\n",
        "sns.heatmap(data, annot=True, fmt='d')\r\n",
        "plt.xlabel('Predicted')\r\n",
        "plt.ylabel('True')\r\n",
        "plt.title('Confusion Matrix')"
      ],
      "execution_count": null,
      "outputs": [
        {
          "output_type": "execute_result",
          "data": {
            "text/plain": [
              "Text(0.5, 1.0, 'Confusion Matrix')"
            ]
          },
          "metadata": {
            "tags": []
          },
          "execution_count": 76
        },
        {
          "output_type": "display_data",
          "data": {
            "image/png": "[encoded data removed]",
            "text/plain": [
              "<Figure size 576x432 with 2 Axes>"
            ]
          },
          "metadata": {
            "tags": [],
            "needs_background": "light"
          }
        }
      ]
    },
    {
      "cell_type": "code",
      "metadata": {
        "id": "-Ysw7VqbiNxT"
      },
      "source": [
        ""
      ],
      "execution_count": null,
      "outputs": []
    }
  ]
}